{
  "nbformat": 4,
  "nbformat_minor": 0,
  "metadata": {
    "colab": {
      "provenance": [],
      "authorship_tag": "ABX9TyMmDPsE4UZ15BXYFiyrlpSv",
      "include_colab_link": true
    },
    "kernelspec": {
      "name": "ir",
      "display_name": "R"
    },
    "language_info": {
      "name": "R"
    }
  },
  "cells": [
    {
      "cell_type": "markdown",
      "metadata": {
        "id": "view-in-github",
        "colab_type": "text"
      },
      "source": [
        "<a href=\"https://colab.research.google.com/github/nidkabo/data_science_projects/blob/main/analyzing_nycflights13.ipynb\" target=\"_parent\"><img src=\"https://colab.research.google.com/assets/colab-badge.svg\" alt=\"Open In Colab\"/></a>"
      ]
    },
    {
      "cell_type": "markdown",
      "source": [
        "##Data Transformation Project\n",
        "###Analyzing NYC Flights 2013 Data\n",
        "**Author**: Nidkamol Boonyanate"
      ],
      "metadata": {
        "id": "Qv7Ki4n_-t3p"
      }
    },
    {
      "cell_type": "code",
      "source": [
        "# install and import libraries\n",
        "install.packages(\"nycflights13\")\n",
        "\n",
        "library(tidyverse)\n",
        "library(nycflights13)"
      ],
      "metadata": {
        "colab": {
          "base_uri": "https://localhost:8080/"
        },
        "id": "G9vazIBh_qvE",
        "outputId": "31677425-aea9-475f-d168-2e8d67c8401c"
      },
      "execution_count": null,
      "outputs": [
        {
          "output_type": "stream",
          "name": "stderr",
          "text": [
            "Installing package into ‘/usr/local/lib/R/site-library’\n",
            "(as ‘lib’ is unspecified)\n",
            "\n",
            "Warning message in system(\"timedatectl\", intern = TRUE):\n",
            "“running command 'timedatectl' had status 1”\n",
            "── \u001b[1mAttaching packages\u001b[22m ─────────────────────────────────────── tidyverse 1.3.1 ──\n",
            "\n",
            "\u001b[32m✔\u001b[39m \u001b[34mggplot2\u001b[39m 3.4.0      \u001b[32m✔\u001b[39m \u001b[34mpurrr  \u001b[39m 1.0.1 \n",
            "\u001b[32m✔\u001b[39m \u001b[34mtibble \u001b[39m 3.1.8      \u001b[32m✔\u001b[39m \u001b[34mdplyr  \u001b[39m 1.0.10\n",
            "\u001b[32m✔\u001b[39m \u001b[34mtidyr  \u001b[39m 1.3.0      \u001b[32m✔\u001b[39m \u001b[34mstringr\u001b[39m 1.4.1 \n",
            "\u001b[32m✔\u001b[39m \u001b[34mreadr  \u001b[39m 2.1.3      \u001b[32m✔\u001b[39m \u001b[34mforcats\u001b[39m 0.5.2 \n",
            "\n",
            "── \u001b[1mConflicts\u001b[22m ────────────────────────────────────────── tidyverse_conflicts() ──\n",
            "\u001b[31m✖\u001b[39m \u001b[34mdplyr\u001b[39m::\u001b[32mfilter()\u001b[39m masks \u001b[34mstats\u001b[39m::filter()\n",
            "\u001b[31m✖\u001b[39m \u001b[34mdplyr\u001b[39m::\u001b[32mlag()\u001b[39m    masks \u001b[34mstats\u001b[39m::lag()\n",
            "\n"
          ]
        }
      ]
    },
    {
      "cell_type": "markdown",
      "source": [
        "Link to data set information: [nycflights13 package](https://www.rdocumentation.org/packages/nycflights13/versions/1.0.1)\n",
        "\n",
        "This package provides the following data tables.\n",
        "\n",
        "flights: all flights that departed from NYC in 2013<br>\n",
        "weather: hourly meterological data for each airport<br>\n",
        "planes: construction information about each plane<br>\n",
        "airports: airport names and locations<br>\n",
        "airlines: translation between two letter carrier codes and names"
      ],
      "metadata": {
        "id": "rLaM7NZCA3r_"
      }
    },
    {
      "cell_type": "code",
      "source": [
        "# turn all tables into objects so that we can work with them easily\n",
        "flights <- nycflights13::flights\n",
        "weather <- nycflights13::weather\n",
        "planes <- nycflights13::planes\n",
        "airports <- nycflights13::airports\n",
        "airlines <- nycflights13::airlines"
      ],
      "metadata": {
        "id": "qpTYmRxpATh2"
      },
      "execution_count": null,
      "outputs": []
    },
    {
      "cell_type": "code",
      "source": [
        "# view data structures\n",
        "glimpse(flights)\n",
        "cat(\"\\n\")\n",
        "glimpse(weather)\n",
        "cat(\"\\n\")\n",
        "glimpse(planes)\n",
        "cat(\"\\n\")\n",
        "glimpse(airports)\n",
        "cat(\"\\n\")\n",
        "glimpse(airlines)"
      ],
      "metadata": {
        "colab": {
          "base_uri": "https://localhost:8080/"
        },
        "id": "TP6bFhIxAj03",
        "outputId": "afbf61cc-12ef-493c-8a57-be3116dcd69e"
      },
      "execution_count": null,
      "outputs": [
        {
          "output_type": "stream",
          "name": "stdout",
          "text": [
            "Rows: 336,776\n",
            "Columns: 19\n",
            "$ year           \u001b[3m\u001b[90m<int>\u001b[39m\u001b[23m 2013, 2013, 2013, 2013, 2013, 2013, 2013, 2013, 2013, 2…\n",
            "$ month          \u001b[3m\u001b[90m<int>\u001b[39m\u001b[23m 1, 1, 1, 1, 1, 1, 1, 1, 1, 1, 1, 1, 1, 1, 1, 1, 1, 1, 1…\n",
            "$ day            \u001b[3m\u001b[90m<int>\u001b[39m\u001b[23m 1, 1, 1, 1, 1, 1, 1, 1, 1, 1, 1, 1, 1, 1, 1, 1, 1, 1, 1…\n",
            "$ dep_time       \u001b[3m\u001b[90m<int>\u001b[39m\u001b[23m 517, 533, 542, 544, 554, 554, 555, 557, 557, 558, 558, …\n",
            "$ sched_dep_time \u001b[3m\u001b[90m<int>\u001b[39m\u001b[23m 515, 529, 540, 545, 600, 558, 600, 600, 600, 600, 600, …\n",
            "$ dep_delay      \u001b[3m\u001b[90m<dbl>\u001b[39m\u001b[23m 2, 4, 2, -1, -6, -4, -5, -3, -3, -2, -2, -2, -2, -2, -1…\n",
            "$ arr_time       \u001b[3m\u001b[90m<int>\u001b[39m\u001b[23m 830, 850, 923, 1004, 812, 740, 913, 709, 838, 753, 849,…\n",
            "$ sched_arr_time \u001b[3m\u001b[90m<int>\u001b[39m\u001b[23m 819, 830, 850, 1022, 837, 728, 854, 723, 846, 745, 851,…\n",
            "$ arr_delay      \u001b[3m\u001b[90m<dbl>\u001b[39m\u001b[23m 11, 20, 33, -18, -25, 12, 19, -14, -8, 8, -2, -3, 7, -1…\n",
            "$ carrier        \u001b[3m\u001b[90m<chr>\u001b[39m\u001b[23m \"UA\", \"UA\", \"AA\", \"B6\", \"DL\", \"UA\", \"B6\", \"EV\", \"B6\", \"…\n",
            "$ flight         \u001b[3m\u001b[90m<int>\u001b[39m\u001b[23m 1545, 1714, 1141, 725, 461, 1696, 507, 5708, 79, 301, 4…\n",
            "$ tailnum        \u001b[3m\u001b[90m<chr>\u001b[39m\u001b[23m \"N14228\", \"N24211\", \"N619AA\", \"N804JB\", \"N668DN\", \"N394…\n",
            "$ origin         \u001b[3m\u001b[90m<chr>\u001b[39m\u001b[23m \"EWR\", \"LGA\", \"JFK\", \"JFK\", \"LGA\", \"EWR\", \"EWR\", \"LGA\",…\n",
            "$ dest           \u001b[3m\u001b[90m<chr>\u001b[39m\u001b[23m \"IAH\", \"IAH\", \"MIA\", \"BQN\", \"ATL\", \"ORD\", \"FLL\", \"IAD\",…\n",
            "$ air_time       \u001b[3m\u001b[90m<dbl>\u001b[39m\u001b[23m 227, 227, 160, 183, 116, 150, 158, 53, 140, 138, 149, 1…\n",
            "$ distance       \u001b[3m\u001b[90m<dbl>\u001b[39m\u001b[23m 1400, 1416, 1089, 1576, 762, 719, 1065, 229, 944, 733, …\n",
            "$ hour           \u001b[3m\u001b[90m<dbl>\u001b[39m\u001b[23m 5, 5, 5, 5, 6, 5, 6, 6, 6, 6, 6, 6, 6, 6, 6, 5, 6, 6, 6…\n",
            "$ minute         \u001b[3m\u001b[90m<dbl>\u001b[39m\u001b[23m 15, 29, 40, 45, 0, 58, 0, 0, 0, 0, 0, 0, 0, 0, 0, 59, 0…\n",
            "$ time_hour      \u001b[3m\u001b[90m<dttm>\u001b[39m\u001b[23m 2013-01-01 05:00:00, 2013-01-01 05:00:00, 2013-01-01 0…\n",
            "\n",
            "Rows: 26,115\n",
            "Columns: 15\n",
            "$ origin     \u001b[3m\u001b[90m<chr>\u001b[39m\u001b[23m \"EWR\", \"EWR\", \"EWR\", \"EWR\", \"EWR\", \"EWR\", \"EWR\", \"EWR\", \"EW…\n",
            "$ year       \u001b[3m\u001b[90m<int>\u001b[39m\u001b[23m 2013, 2013, 2013, 2013, 2013, 2013, 2013, 2013, 2013, 2013,…\n",
            "$ month      \u001b[3m\u001b[90m<int>\u001b[39m\u001b[23m 1, 1, 1, 1, 1, 1, 1, 1, 1, 1, 1, 1, 1, 1, 1, 1, 1, 1, 1, 1,…\n",
            "$ day        \u001b[3m\u001b[90m<int>\u001b[39m\u001b[23m 1, 1, 1, 1, 1, 1, 1, 1, 1, 1, 1, 1, 1, 1, 1, 1, 1, 1, 1, 1,…\n",
            "$ hour       \u001b[3m\u001b[90m<int>\u001b[39m\u001b[23m 1, 2, 3, 4, 5, 6, 7, 8, 9, 10, 11, 13, 14, 15, 16, 17, 18, …\n",
            "$ temp       \u001b[3m\u001b[90m<dbl>\u001b[39m\u001b[23m 39.02, 39.02, 39.02, 39.92, 39.02, 37.94, 39.02, 39.92, 39.…\n",
            "$ dewp       \u001b[3m\u001b[90m<dbl>\u001b[39m\u001b[23m 26.06, 26.96, 28.04, 28.04, 28.04, 28.04, 28.04, 28.04, 28.…\n",
            "$ humid      \u001b[3m\u001b[90m<dbl>\u001b[39m\u001b[23m 59.37, 61.63, 64.43, 62.21, 64.43, 67.21, 64.43, 62.21, 62.…\n",
            "$ wind_dir   \u001b[3m\u001b[90m<dbl>\u001b[39m\u001b[23m 270, 250, 240, 250, 260, 240, 240, 250, 260, 260, 260, 330,…\n",
            "$ wind_speed \u001b[3m\u001b[90m<dbl>\u001b[39m\u001b[23m 10.35702, 8.05546, 11.50780, 12.65858, 12.65858, 11.50780, …\n",
            "$ wind_gust  \u001b[3m\u001b[90m<dbl>\u001b[39m\u001b[23m NA, NA, NA, NA, NA, NA, NA, NA, NA, NA, NA, NA, NA, NA, 20.…\n",
            "$ precip     \u001b[3m\u001b[90m<dbl>\u001b[39m\u001b[23m 0, 0, 0, 0, 0, 0, 0, 0, 0, 0, 0, 0, 0, 0, 0, 0, 0, 0, 0, 0,…\n",
            "$ pressure   \u001b[3m\u001b[90m<dbl>\u001b[39m\u001b[23m 1012.0, 1012.3, 1012.5, 1012.2, 1011.9, 1012.4, 1012.2, 101…\n",
            "$ visib      \u001b[3m\u001b[90m<dbl>\u001b[39m\u001b[23m 10, 10, 10, 10, 10, 10, 10, 10, 10, 10, 10, 10, 10, 10, 10,…\n",
            "$ time_hour  \u001b[3m\u001b[90m<dttm>\u001b[39m\u001b[23m 2013-01-01 01:00:00, 2013-01-01 02:00:00, 2013-01-01 03:00…\n",
            "\n",
            "Rows: 3,322\n",
            "Columns: 9\n",
            "$ tailnum      \u001b[3m\u001b[90m<chr>\u001b[39m\u001b[23m \"N10156\", \"N102UW\", \"N103US\", \"N104UW\", \"N10575\", \"N105UW…\n",
            "$ year         \u001b[3m\u001b[90m<int>\u001b[39m\u001b[23m 2004, 1998, 1999, 1999, 2002, 1999, 1999, 1999, 1999, 199…\n",
            "$ type         \u001b[3m\u001b[90m<chr>\u001b[39m\u001b[23m \"Fixed wing multi engine\", \"Fixed wing multi engine\", \"Fi…\n",
            "$ manufacturer \u001b[3m\u001b[90m<chr>\u001b[39m\u001b[23m \"EMBRAER\", \"AIRBUS INDUSTRIE\", \"AIRBUS INDUSTRIE\", \"AIRBU…\n",
            "$ model        \u001b[3m\u001b[90m<chr>\u001b[39m\u001b[23m \"EMB-145XR\", \"A320-214\", \"A320-214\", \"A320-214\", \"EMB-145…\n",
            "$ engines      \u001b[3m\u001b[90m<int>\u001b[39m\u001b[23m 2, 2, 2, 2, 2, 2, 2, 2, 2, 2, 2, 2, 2, 2, 2, 2, 2, 2, 2, …\n",
            "$ seats        \u001b[3m\u001b[90m<int>\u001b[39m\u001b[23m 55, 182, 182, 182, 55, 182, 182, 182, 182, 182, 55, 55, 5…\n",
            "$ speed        \u001b[3m\u001b[90m<int>\u001b[39m\u001b[23m NA, NA, NA, NA, NA, NA, NA, NA, NA, NA, NA, NA, NA, NA, N…\n",
            "$ engine       \u001b[3m\u001b[90m<chr>\u001b[39m\u001b[23m \"Turbo-fan\", \"Turbo-fan\", \"Turbo-fan\", \"Turbo-fan\", \"Turb…\n",
            "\n",
            "Rows: 1,458\n",
            "Columns: 8\n",
            "$ faa   \u001b[3m\u001b[90m<chr>\u001b[39m\u001b[23m \"04G\", \"06A\", \"06C\", \"06N\", \"09J\", \"0A9\", \"0G6\", \"0G7\", \"0P2\", \"…\n",
            "$ name  \u001b[3m\u001b[90m<chr>\u001b[39m\u001b[23m \"Lansdowne Airport\", \"Moton Field Municipal Airport\", \"Schaumbur…\n",
            "$ lat   \u001b[3m\u001b[90m<dbl>\u001b[39m\u001b[23m 41.13047, 32.46057, 41.98934, 41.43191, 31.07447, 36.37122, 41.4…\n",
            "$ lon   \u001b[3m\u001b[90m<dbl>\u001b[39m\u001b[23m -80.61958, -85.68003, -88.10124, -74.39156, -81.42778, -82.17342…\n",
            "$ alt   \u001b[3m\u001b[90m<dbl>\u001b[39m\u001b[23m 1044, 264, 801, 523, 11, 1593, 730, 492, 1000, 108, 409, 875, 10…\n",
            "$ tz    \u001b[3m\u001b[90m<dbl>\u001b[39m\u001b[23m -5, -6, -6, -5, -5, -5, -5, -5, -5, -8, -5, -6, -5, -5, -5, -5, …\n",
            "$ dst   \u001b[3m\u001b[90m<chr>\u001b[39m\u001b[23m \"A\", \"A\", \"A\", \"A\", \"A\", \"A\", \"A\", \"A\", \"U\", \"A\", \"A\", \"U\", \"A\",…\n",
            "$ tzone \u001b[3m\u001b[90m<chr>\u001b[39m\u001b[23m \"America/New_York\", \"America/Chicago\", \"America/Chicago\", \"Ameri…\n",
            "\n",
            "Rows: 16\n",
            "Columns: 2\n",
            "$ carrier \u001b[3m\u001b[90m<chr>\u001b[39m\u001b[23m \"9E\", \"AA\", \"AS\", \"B6\", \"DL\", \"EV\", \"F9\", \"FL\", \"HA\", \"MQ\", \"O…\n",
            "$ name    \u001b[3m\u001b[90m<chr>\u001b[39m\u001b[23m \"Endeavor Air Inc.\", \"American Airlines Inc.\", \"Alaska Airline…\n"
          ]
        }
      ]
    },
    {
      "cell_type": "markdown",
      "source": [
        "###Question 1: Which airline that travels from JFK had the most flights during the summer (July, August, and September) of 2013?"
      ],
      "metadata": {
        "id": "2FVuUbGxH562"
      }
    },
    {
      "cell_type": "code",
      "source": [
        "flights %>%\n",
        "    filter(origin == \"JFK\",               # filter data\n",
        "            month %in% c(7, 8, 9),\n",
        "            !is.na(dep_time)) %>%         # filter out all canceled flights\n",
        "    count(carrier) %>%                    # count flights\n",
        "    arrange(desc(n)) %>%                  # desc order by the count of flights\n",
        "    left_join(airlines, by=\"carrier\")     # join to get carrier's names"
      ],
      "metadata": {
        "colab": {
          "base_uri": "https://localhost:8080/",
          "height": 411
        },
        "id": "eYuTbfqMCV2A",
        "outputId": "72f85484-27b2-47c2-9052-e6c0e4773ba2"
      },
      "execution_count": null,
      "outputs": [
        {
          "output_type": "display_data",
          "data": {
            "text/html": [
              "<table class=\"dataframe\">\n",
              "<caption>A tibble: 10 × 3</caption>\n",
              "<thead>\n",
              "\t<tr><th scope=col>carrier</th><th scope=col>n</th><th scope=col>name</th></tr>\n",
              "\t<tr><th scope=col>&lt;chr&gt;</th><th scope=col>&lt;int&gt;</th><th scope=col>&lt;chr&gt;</th></tr>\n",
              "</thead>\n",
              "<tbody>\n",
              "\t<tr><td>B6</td><td>11149</td><td>JetBlue Airways         </td></tr>\n",
              "\t<tr><td>DL</td><td> 5626</td><td>Delta Air Lines Inc.    </td></tr>\n",
              "\t<tr><td>AA</td><td> 3427</td><td>American Airlines Inc.  </td></tr>\n",
              "\t<tr><td>9E</td><td> 3370</td><td>Endeavor Air Inc.       </td></tr>\n",
              "\t<tr><td>MQ</td><td> 1744</td><td>Envoy Air               </td></tr>\n",
              "\t<tr><td>UA</td><td> 1145</td><td>United Air Lines Inc.   </td></tr>\n",
              "\t<tr><td>VX</td><td>  906</td><td>Virgin America          </td></tr>\n",
              "\t<tr><td>US</td><td>  720</td><td>US Airways Inc.         </td></tr>\n",
              "\t<tr><td>EV</td><td>  344</td><td>ExpressJet Airlines Inc.</td></tr>\n",
              "\t<tr><td>HA</td><td>   87</td><td>Hawaiian Airlines Inc.  </td></tr>\n",
              "</tbody>\n",
              "</table>\n"
            ],
            "text/markdown": "\nA tibble: 10 × 3\n\n| carrier &lt;chr&gt; | n &lt;int&gt; | name &lt;chr&gt; |\n|---|---|---|\n| B6 | 11149 | JetBlue Airways          |\n| DL |  5626 | Delta Air Lines Inc.     |\n| AA |  3427 | American Airlines Inc.   |\n| 9E |  3370 | Endeavor Air Inc.        |\n| MQ |  1744 | Envoy Air                |\n| UA |  1145 | United Air Lines Inc.    |\n| VX |   906 | Virgin America           |\n| US |   720 | US Airways Inc.          |\n| EV |   344 | ExpressJet Airlines Inc. |\n| HA |    87 | Hawaiian Airlines Inc.   |\n\n",
            "text/latex": "A tibble: 10 × 3\n\\begin{tabular}{lll}\n carrier & n & name\\\\\n <chr> & <int> & <chr>\\\\\n\\hline\n\t B6 & 11149 & JetBlue Airways         \\\\\n\t DL &  5626 & Delta Air Lines Inc.    \\\\\n\t AA &  3427 & American Airlines Inc.  \\\\\n\t 9E &  3370 & Endeavor Air Inc.       \\\\\n\t MQ &  1744 & Envoy Air               \\\\\n\t UA &  1145 & United Air Lines Inc.   \\\\\n\t VX &   906 & Virgin America          \\\\\n\t US &   720 & US Airways Inc.         \\\\\n\t EV &   344 & ExpressJet Airlines Inc.\\\\\n\t HA &    87 & Hawaiian Airlines Inc.  \\\\\n\\end{tabular}\n",
            "text/plain": [
              "   carrier n     name                    \n",
              "1  B6      11149 JetBlue Airways         \n",
              "2  DL       5626 Delta Air Lines Inc.    \n",
              "3  AA       3427 American Airlines Inc.  \n",
              "4  9E       3370 Endeavor Air Inc.       \n",
              "5  MQ       1744 Envoy Air               \n",
              "6  UA       1145 United Air Lines Inc.   \n",
              "7  VX        906 Virgin America          \n",
              "8  US        720 US Airways Inc.         \n",
              "9  EV        344 ExpressJet Airlines Inc.\n",
              "10 HA         87 Hawaiian Airlines Inc.  "
            ]
          },
          "metadata": {}
        }
      ]
    },
    {
      "cell_type": "markdown",
      "source": [
        "###Question 2: From question 1, which destinations that people from JFK did travel to the most?"
      ],
      "metadata": {
        "id": "0W0Y0DboPcuv"
      }
    },
    {
      "cell_type": "code",
      "source": [
        "flights %>%\n",
        "    filter(origin == \"JFK\",               # filter data\n",
        "            month %in% c(7, 8, 9),\n",
        "            !is.na(dep_time)) %>%         # filter out all canceled flights\n",
        "    count(dest) %>%                       # count times of travels\n",
        "    arrange(desc(n)) %>%                  # desc order by the count of travels\n",
        "    left_join(airports %>%\n",
        "                select(faa, name),\n",
        "              by=c(\"dest\"=\"faa\")) %>%     # join to get destination's names\n",
        "    head()"
      ],
      "metadata": {
        "colab": {
          "base_uri": "https://localhost:8080/",
          "height": 286
        },
        "id": "krVVuQ-xOFKy",
        "outputId": "249aa9a3-178c-46ff-cb82-b6c312dbde07"
      },
      "execution_count": null,
      "outputs": [
        {
          "output_type": "display_data",
          "data": {
            "text/html": [
              "<table class=\"dataframe\">\n",
              "<caption>A tibble: 6 × 3</caption>\n",
              "<thead>\n",
              "\t<tr><th scope=col>dest</th><th scope=col>n</th><th scope=col>name</th></tr>\n",
              "\t<tr><th scope=col>&lt;chr&gt;</th><th scope=col>&lt;int&gt;</th><th scope=col>&lt;chr&gt;</th></tr>\n",
              "</thead>\n",
              "<tbody>\n",
              "\t<tr><td>LAX</td><td>2884</td><td>Los Angeles Intl                  </td></tr>\n",
              "\t<tr><td>SFO</td><td>2109</td><td>San Francisco Intl                </td></tr>\n",
              "\t<tr><td>BOS</td><td>1503</td><td>General Edward Lawrence Logan Intl</td></tr>\n",
              "\t<tr><td>MCO</td><td>1390</td><td>Orlando Intl                      </td></tr>\n",
              "\t<tr><td>SJU</td><td>1247</td><td>NA                                </td></tr>\n",
              "\t<tr><td>LAS</td><td>1071</td><td>Mc Carran Intl                    </td></tr>\n",
              "</tbody>\n",
              "</table>\n"
            ],
            "text/markdown": "\nA tibble: 6 × 3\n\n| dest &lt;chr&gt; | n &lt;int&gt; | name &lt;chr&gt; |\n|---|---|---|\n| LAX | 2884 | Los Angeles Intl                   |\n| SFO | 2109 | San Francisco Intl                 |\n| BOS | 1503 | General Edward Lawrence Logan Intl |\n| MCO | 1390 | Orlando Intl                       |\n| SJU | 1247 | NA                                 |\n| LAS | 1071 | Mc Carran Intl                     |\n\n",
            "text/latex": "A tibble: 6 × 3\n\\begin{tabular}{lll}\n dest & n & name\\\\\n <chr> & <int> & <chr>\\\\\n\\hline\n\t LAX & 2884 & Los Angeles Intl                  \\\\\n\t SFO & 2109 & San Francisco Intl                \\\\\n\t BOS & 1503 & General Edward Lawrence Logan Intl\\\\\n\t MCO & 1390 & Orlando Intl                      \\\\\n\t SJU & 1247 & NA                                \\\\\n\t LAS & 1071 & Mc Carran Intl                    \\\\\n\\end{tabular}\n",
            "text/plain": [
              "  dest n    name                              \n",
              "1 LAX  2884 Los Angeles Intl                  \n",
              "2 SFO  2109 San Francisco Intl                \n",
              "3 BOS  1503 General Edward Lawrence Logan Intl\n",
              "4 MCO  1390 Orlando Intl                      \n",
              "5 SJU  1247 NA                                \n",
              "6 LAS  1071 Mc Carran Intl                    "
            ]
          },
          "metadata": {}
        }
      ]
    },
    {
      "cell_type": "markdown",
      "source": [
        "###Question 3: From question 1, What was the total travel distance of each airline that did travel from JFK? How many flights?"
      ],
      "metadata": {
        "id": "Hw3kW-CyYtLD"
      }
    },
    {
      "cell_type": "code",
      "source": [
        "flights %>%\n",
        "    filter(origin == \"JFK\",\n",
        "            month %in% c(7, 8, 9),\n",
        "            !is.na(dep_time)) %>%\n",
        "    left_join(airlines, by=\"carrier\") %>%\n",
        "    group_by(carrier, name) %>%   # group by carrier and name\n",
        "    summarise(n_flights = n(),    # summarise the number of flights and total distance\n",
        "              total_dist_mi = sum(distance)) %>%\n",
        "    arrange(name)                 # order by carrier"
      ],
      "metadata": {
        "colab": {
          "base_uri": "https://localhost:8080/",
          "height": 448
        },
        "id": "elFvZO4OR7hD",
        "outputId": "dc7d953a-b006-43c4-805d-19a8c112b00a"
      },
      "execution_count": null,
      "outputs": [
        {
          "output_type": "stream",
          "name": "stderr",
          "text": [
            "\u001b[1m\u001b[22m`summarise()` has grouped output by 'carrier'. You can override using the\n",
            "`.groups` argument.\n"
          ]
        },
        {
          "output_type": "display_data",
          "data": {
            "text/html": [
              "<table class=\"dataframe\">\n",
              "<caption>A grouped_df: 10 × 4</caption>\n",
              "<thead>\n",
              "\t<tr><th scope=col>carrier</th><th scope=col>name</th><th scope=col>n_flights</th><th scope=col>total_dist_mi</th></tr>\n",
              "\t<tr><th scope=col>&lt;chr&gt;</th><th scope=col>&lt;chr&gt;</th><th scope=col>&lt;int&gt;</th><th scope=col>&lt;dbl&gt;</th></tr>\n",
              "</thead>\n",
              "<tbody>\n",
              "\t<tr><td>AA</td><td>American Airlines Inc.  </td><td> 3427</td><td> 5706728</td></tr>\n",
              "\t<tr><td>DL</td><td>Delta Air Lines Inc.    </td><td> 5626</td><td> 9271491</td></tr>\n",
              "\t<tr><td>9E</td><td>Endeavor Air Inc.       </td><td> 3370</td><td> 1822018</td></tr>\n",
              "\t<tr><td>MQ</td><td>Envoy Air               </td><td> 1744</td><td>  708351</td></tr>\n",
              "\t<tr><td>EV</td><td>ExpressJet Airlines Inc.</td><td>  344</td><td>   78432</td></tr>\n",
              "\t<tr><td>HA</td><td>Hawaiian Airlines Inc.  </td><td>   87</td><td>  433521</td></tr>\n",
              "\t<tr><td>B6</td><td>JetBlue Airways         </td><td>11149</td><td>12402635</td></tr>\n",
              "\t<tr><td>UA</td><td>United Air Lines Inc.   </td><td> 1145</td><td> 2903694</td></tr>\n",
              "\t<tr><td>US</td><td>US Airways Inc.         </td><td>  720</td><td>  807028</td></tr>\n",
              "\t<tr><td>VX</td><td>Virgin America          </td><td>  906</td><td> 2261759</td></tr>\n",
              "</tbody>\n",
              "</table>\n"
            ],
            "text/markdown": "\nA grouped_df: 10 × 4\n\n| carrier &lt;chr&gt; | name &lt;chr&gt; | n_flights &lt;int&gt; | total_dist_mi &lt;dbl&gt; |\n|---|---|---|---|\n| AA | American Airlines Inc.   |  3427 |  5706728 |\n| DL | Delta Air Lines Inc.     |  5626 |  9271491 |\n| 9E | Endeavor Air Inc.        |  3370 |  1822018 |\n| MQ | Envoy Air                |  1744 |   708351 |\n| EV | ExpressJet Airlines Inc. |   344 |    78432 |\n| HA | Hawaiian Airlines Inc.   |    87 |   433521 |\n| B6 | JetBlue Airways          | 11149 | 12402635 |\n| UA | United Air Lines Inc.    |  1145 |  2903694 |\n| US | US Airways Inc.          |   720 |   807028 |\n| VX | Virgin America           |   906 |  2261759 |\n\n",
            "text/latex": "A grouped\\_df: 10 × 4\n\\begin{tabular}{llll}\n carrier & name & n\\_flights & total\\_dist\\_mi\\\\\n <chr> & <chr> & <int> & <dbl>\\\\\n\\hline\n\t AA & American Airlines Inc.   &  3427 &  5706728\\\\\n\t DL & Delta Air Lines Inc.     &  5626 &  9271491\\\\\n\t 9E & Endeavor Air Inc.        &  3370 &  1822018\\\\\n\t MQ & Envoy Air                &  1744 &   708351\\\\\n\t EV & ExpressJet Airlines Inc. &   344 &    78432\\\\\n\t HA & Hawaiian Airlines Inc.   &    87 &   433521\\\\\n\t B6 & JetBlue Airways          & 11149 & 12402635\\\\\n\t UA & United Air Lines Inc.    &  1145 &  2903694\\\\\n\t US & US Airways Inc.          &   720 &   807028\\\\\n\t VX & Virgin America           &   906 &  2261759\\\\\n\\end{tabular}\n",
            "text/plain": [
              "   carrier name                     n_flights total_dist_mi\n",
              "1  AA      American Airlines Inc.    3427      5706728     \n",
              "2  DL      Delta Air Lines Inc.      5626      9271491     \n",
              "3  9E      Endeavor Air Inc.         3370      1822018     \n",
              "4  MQ      Envoy Air                 1744       708351     \n",
              "5  EV      ExpressJet Airlines Inc.   344        78432     \n",
              "6  HA      Hawaiian Airlines Inc.      87       433521     \n",
              "7  B6      JetBlue Airways          11149     12402635     \n",
              "8  UA      United Air Lines Inc.     1145      2903694     \n",
              "9  US      US Airways Inc.            720       807028     \n",
              "10 VX      Virgin America             906      2261759     "
            ]
          },
          "metadata": {}
        }
      ]
    },
    {
      "cell_type": "markdown",
      "source": [
        "###Question 4: Which airplane model has the longest total travel distance? How many of them?"
      ],
      "metadata": {
        "id": "OPa0Zj6Vkr08"
      }
    },
    {
      "cell_type": "code",
      "source": [
        "flights %>%\n",
        "    filter(!is.na(dep_time)) %>%\n",
        "    inner_join(planes, by=\"tailnum\") %>%\n",
        "    group_by(model, manufacturer) %>% # group by model and manufacturer\n",
        "    summarise(n_model = n(),          # summarise the number of model and total distance\n",
        "              total_dist_mi = sum(distance)) %>%\n",
        "    arrange(desc(total_dist_mi)) %>%  # order by total distance\n",
        "    head()"
      ],
      "metadata": {
        "colab": {
          "base_uri": "https://localhost:8080/",
          "height": 323
        },
        "id": "8f65h35JqOYh",
        "outputId": "bf7d2555-76fb-4597-cdc3-3e58ea163af1"
      },
      "execution_count": null,
      "outputs": [
        {
          "output_type": "stream",
          "name": "stderr",
          "text": [
            "\u001b[1m\u001b[22m`summarise()` has grouped output by 'model'. You can override using the\n",
            "`.groups` argument.\n"
          ]
        },
        {
          "output_type": "display_data",
          "data": {
            "text/html": [
              "<table class=\"dataframe\">\n",
              "<caption>A grouped_df: 6 × 4</caption>\n",
              "<thead>\n",
              "\t<tr><th scope=col>model</th><th scope=col>manufacturer</th><th scope=col>n_model</th><th scope=col>total_dist_mi</th></tr>\n",
              "\t<tr><th scope=col>&lt;chr&gt;</th><th scope=col>&lt;chr&gt;</th><th scope=col>&lt;int&gt;</th><th scope=col>&lt;dbl&gt;</th></tr>\n",
              "</thead>\n",
              "<tbody>\n",
              "\t<tr><td>A320-232 </td><td>AIRBUS          </td><td>31058</td><td>43133359</td></tr>\n",
              "\t<tr><td>737-824  </td><td>BOEING          </td><td>13809</td><td>19819336</td></tr>\n",
              "\t<tr><td>757-222  </td><td>BOEING          </td><td> 9150</td><td>19168149</td></tr>\n",
              "\t<tr><td>A320-232 </td><td>AIRBUS INDUSTRIE</td><td>14516</td><td>18957087</td></tr>\n",
              "\t<tr><td>737-832  </td><td>BOEING          </td><td> 8695</td><td>14720241</td></tr>\n",
              "\t<tr><td>EMB-145LR</td><td>EMBRAER         </td><td>26603</td><td>13632946</td></tr>\n",
              "</tbody>\n",
              "</table>\n"
            ],
            "text/markdown": "\nA grouped_df: 6 × 4\n\n| model &lt;chr&gt; | manufacturer &lt;chr&gt; | n_model &lt;int&gt; | total_dist_mi &lt;dbl&gt; |\n|---|---|---|---|\n| A320-232  | AIRBUS           | 31058 | 43133359 |\n| 737-824   | BOEING           | 13809 | 19819336 |\n| 757-222   | BOEING           |  9150 | 19168149 |\n| A320-232  | AIRBUS INDUSTRIE | 14516 | 18957087 |\n| 737-832   | BOEING           |  8695 | 14720241 |\n| EMB-145LR | EMBRAER          | 26603 | 13632946 |\n\n",
            "text/latex": "A grouped\\_df: 6 × 4\n\\begin{tabular}{llll}\n model & manufacturer & n\\_model & total\\_dist\\_mi\\\\\n <chr> & <chr> & <int> & <dbl>\\\\\n\\hline\n\t A320-232  & AIRBUS           & 31058 & 43133359\\\\\n\t 737-824   & BOEING           & 13809 & 19819336\\\\\n\t 757-222   & BOEING           &  9150 & 19168149\\\\\n\t A320-232  & AIRBUS INDUSTRIE & 14516 & 18957087\\\\\n\t 737-832   & BOEING           &  8695 & 14720241\\\\\n\t EMB-145LR & EMBRAER          & 26603 & 13632946\\\\\n\\end{tabular}\n",
            "text/plain": [
              "  model     manufacturer     n_model total_dist_mi\n",
              "1 A320-232  AIRBUS           31058   43133359     \n",
              "2 737-824   BOEING           13809   19819336     \n",
              "3 757-222   BOEING            9150   19168149     \n",
              "4 A320-232  AIRBUS INDUSTRIE 14516   18957087     \n",
              "5 737-832   BOEING            8695   14720241     \n",
              "6 EMB-145LR EMBRAER          26603   13632946     "
            ]
          },
          "metadata": {}
        }
      ]
    },
    {
      "cell_type": "markdown",
      "source": [
        "###Question 5: Which airlines had the most canceled flights? Make a comparison table between scheduled and canceled flights of each airline."
      ],
      "metadata": {
        "id": "FbjkaSR6sOcu"
      }
    },
    {
      "cell_type": "code",
      "source": [
        "cf_data <- flights %>%                               # canceled flights data by carrier\n",
        "    filter(is.na(dep_time)) %>%                      # filter canceled flights\n",
        "    group_by(carrier) %>%\n",
        "    summarise(n_canceled = n())                      # count canceled flights\n",
        "\n",
        "flights %>% \n",
        "    left_join(airlines, by=\"carrier\") %>%            # join related tables\n",
        "    group_by(carrier, name) %>%                               \n",
        "    summarise(n_scheduled = n()) %>%                 # count scheduled flights\n",
        "    left_join(cf_data, by=\"carrier\") %>%             # join canceled flights data\n",
        "    mutate(cf_prop =                                 # calculate the proportion\n",
        "      round((n_canceled/n_scheduled), 4)) %>%\n",
        "    ## cf_prop = canceled flights proportion\n",
        "    arrange(desc(n_canceled)) %>%                    # order by canceled flights\n",
        "    head(5)                                          # top 5 most canceled flights airlines"
      ],
      "metadata": {
        "colab": {
          "base_uri": "https://localhost:8080/",
          "height": 292
        },
        "id": "U2mIVZLQrKFn",
        "outputId": "260863fb-a994-414d-dbbe-49b0895ec4eb"
      },
      "execution_count": null,
      "outputs": [
        {
          "output_type": "stream",
          "name": "stderr",
          "text": [
            "\u001b[1m\u001b[22m`summarise()` has grouped output by 'carrier'. You can override using the\n",
            "`.groups` argument.\n"
          ]
        },
        {
          "output_type": "display_data",
          "data": {
            "text/html": [
              "<table class=\"dataframe\">\n",
              "<caption>A grouped_df: 5 × 5</caption>\n",
              "<thead>\n",
              "\t<tr><th scope=col>carrier</th><th scope=col>name</th><th scope=col>n_scheduled</th><th scope=col>n_canceled</th><th scope=col>cf_prop</th></tr>\n",
              "\t<tr><th scope=col>&lt;chr&gt;</th><th scope=col>&lt;chr&gt;</th><th scope=col>&lt;int&gt;</th><th scope=col>&lt;int&gt;</th><th scope=col>&lt;dbl&gt;</th></tr>\n",
              "</thead>\n",
              "<tbody>\n",
              "\t<tr><td>EV</td><td>ExpressJet Airlines Inc.</td><td>54173</td><td>2817</td><td>0.0520</td></tr>\n",
              "\t<tr><td>MQ</td><td>Envoy Air               </td><td>26397</td><td>1234</td><td>0.0467</td></tr>\n",
              "\t<tr><td>9E</td><td>Endeavor Air Inc.       </td><td>18460</td><td>1044</td><td>0.0566</td></tr>\n",
              "\t<tr><td>UA</td><td>United Air Lines Inc.   </td><td>58665</td><td> 686</td><td>0.0117</td></tr>\n",
              "\t<tr><td>US</td><td>US Airways Inc.         </td><td>20536</td><td> 663</td><td>0.0323</td></tr>\n",
              "</tbody>\n",
              "</table>\n"
            ],
            "text/markdown": "\nA grouped_df: 5 × 5\n\n| carrier &lt;chr&gt; | name &lt;chr&gt; | n_scheduled &lt;int&gt; | n_canceled &lt;int&gt; | cf_prop &lt;dbl&gt; |\n|---|---|---|---|---|\n| EV | ExpressJet Airlines Inc. | 54173 | 2817 | 0.0520 |\n| MQ | Envoy Air                | 26397 | 1234 | 0.0467 |\n| 9E | Endeavor Air Inc.        | 18460 | 1044 | 0.0566 |\n| UA | United Air Lines Inc.    | 58665 |  686 | 0.0117 |\n| US | US Airways Inc.          | 20536 |  663 | 0.0323 |\n\n",
            "text/latex": "A grouped\\_df: 5 × 5\n\\begin{tabular}{lllll}\n carrier & name & n\\_scheduled & n\\_canceled & cf\\_prop\\\\\n <chr> & <chr> & <int> & <int> & <dbl>\\\\\n\\hline\n\t EV & ExpressJet Airlines Inc. & 54173 & 2817 & 0.0520\\\\\n\t MQ & Envoy Air                & 26397 & 1234 & 0.0467\\\\\n\t 9E & Endeavor Air Inc.        & 18460 & 1044 & 0.0566\\\\\n\t UA & United Air Lines Inc.    & 58665 &  686 & 0.0117\\\\\n\t US & US Airways Inc.          & 20536 &  663 & 0.0323\\\\\n\\end{tabular}\n",
            "text/plain": [
              "  carrier name                     n_scheduled n_canceled cf_prop\n",
              "1 EV      ExpressJet Airlines Inc. 54173       2817       0.0520 \n",
              "2 MQ      Envoy Air                26397       1234       0.0467 \n",
              "3 9E      Endeavor Air Inc.        18460       1044       0.0566 \n",
              "4 UA      United Air Lines Inc.    58665        686       0.0117 \n",
              "5 US      US Airways Inc.          20536        663       0.0323 "
            ]
          },
          "metadata": {}
        }
      ]
    }
  ]
}