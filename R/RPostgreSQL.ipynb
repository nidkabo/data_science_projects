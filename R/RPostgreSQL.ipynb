{
  "nbformat": 4,
  "nbformat_minor": 0,
  "metadata": {
    "colab": {
      "provenance": [],
      "authorship_tag": "ABX9TyMI8LbUFSR+2iOczibd8wNQ",
      "include_colab_link": true
    },
    "kernelspec": {
      "name": "ir",
      "display_name": "R"
    },
    "language_info": {
      "name": "R"
    }
  },
  "cells": [
    {
      "cell_type": "markdown",
      "metadata": {
        "id": "view-in-github",
        "colab_type": "text"
      },
      "source": [
        "<a href=\"https://colab.research.google.com/github/nidkabo/data_science_projects/blob/main/R/RPostgreSQL.ipynb\" target=\"_parent\"><img src=\"https://colab.research.google.com/assets/colab-badge.svg\" alt=\"Open In Colab\"/></a>"
      ]
    },
    {
      "cell_type": "markdown",
      "source": [
        "##Data Transformation Project\n",
        "###RPostgreSQL\n",
        "**Author**: Nidkamol Boonyanate"
      ],
      "metadata": {
        "id": "IGfx7XMC1mja"
      }
    },
    {
      "cell_type": "code",
      "source": [
        "# R connect to PostgreSQL (the driver that lets R set any configs for a PostgreSQL server)\n",
        "## install the \"RPostgreSQL\" package\n",
        "install.packages(\"RPostgreSQL\")"
      ],
      "metadata": {
        "colab": {
          "base_uri": "https://localhost:8080/"
        },
        "id": "SVr3k0dG2HDR",
        "outputId": "671d7cb8-064d-4be3-f180-ba7b4d730629"
      },
      "execution_count": null,
      "outputs": [
        {
          "output_type": "stream",
          "name": "stderr",
          "text": [
            "Installing package into ‘/usr/local/lib/R/site-library’\n",
            "(as ‘lib’ is unspecified)\n",
            "\n"
          ]
        }
      ]
    },
    {
      "cell_type": "code",
      "source": [
        "## import libraries\n",
        "library(DBI)                                         # R Database Interface\n",
        "library(RPostgreSQL)\n",
        "library(dplyr)"
      ],
      "metadata": {
        "colab": {
          "base_uri": "https://localhost:8080/"
        },
        "id": "zprlf_4h2i0n",
        "outputId": "6f113785-ae96-48ae-c823-60d09ebe708c"
      },
      "execution_count": null,
      "outputs": [
        {
          "output_type": "stream",
          "name": "stderr",
          "text": [
            "\n",
            "Attaching package: ‘dplyr’\n",
            "\n",
            "\n",
            "The following objects are masked from ‘package:stats’:\n",
            "\n",
            "    filter, lag\n",
            "\n",
            "\n",
            "The following objects are masked from ‘package:base’:\n",
            "\n",
            "    intersect, setdiff, setequal, union\n",
            "\n",
            "\n"
          ]
        }
      ]
    },
    {
      "cell_type": "code",
      "execution_count": null,
      "metadata": {
        "id": "moUJNKpn0PlA"
      },
      "outputs": [],
      "source": [
        "## username, password, host(server), port, dbname\n",
        "con <- dbConnect(\n",
        "    PostgreSQL(),                                       \n",
        "    user = \"qkwfsvqs\",\n",
        "    password = \"aSQ-7KpYX2mly-CXQPcpLnVL5EYZESNZ\",\n",
        "    host = \"john.db.elephantsql.com\",                # server\n",
        "    port = 5432,                                     # default of PostgreSQL\n",
        "    dbname = \"qkwfsvqs\")                             # same as user"
      ]
    },
    {
      "cell_type": "code",
      "source": [
        "## check connection\n",
        "con\n",
        "dbListTables(con)"
      ],
      "metadata": {
        "colab": {
          "base_uri": "https://localhost:8080/",
          "height": 35
        },
        "id": "R23asONT71Hd",
        "outputId": "8ab7fcd0-4e05-4f9e-f4a6-5005ae06c96a"
      },
      "execution_count": null,
      "outputs": [
        {
          "output_type": "display_data",
          "data": {
            "text/plain": [
              "<PostgreSQLConnection>"
            ]
          },
          "metadata": {}
        },
        {
          "output_type": "display_data",
          "data": {
            "text/html": [],
            "text/markdown": "",
            "text/latex": "",
            "text/plain": [
              "character(0)"
            ]
          },
          "metadata": {}
        }
      ]
    },
    {
      "cell_type": "code",
      "source": [
        "## create data set\n",
        "menu <- data.frame(\n",
        "    menu_id = 1:6,\n",
        "    menu_item = c(\"Spicy Basil\", \"Fried Rice\", \"Tom Yum\", \"Pad Thai\", \"Rice Soup\", \"Wide Rice Noodle Soup\"),\n",
        "    price = c(40, 40, 80, 50, 40, 40)\n",
        ")\n",
        "\n",
        "type <- data.frame(\n",
        "    type_id = 1:5,\n",
        "    type_item = c(\"Rice\", \"Noodle\", \"Soup\", \"Spicy\", \"Non-Spicy\")\n",
        ")\n",
        "\n",
        "bridge_table <- data.frame(\n",
        "    menu_id = c(1, 1, 2, 2, 3, 3, 4, 4, 5, 5, 5, 6, 6, 6),\n",
        "    type_id = c(1, 4, 1, 5, 3, 4, 2, 5, 1, 3, 5, 2, 3, 5)\n",
        ")"
      ],
      "metadata": {
        "id": "eeKROzlK67J8"
      },
      "execution_count": null,
      "outputs": []
    },
    {
      "cell_type": "code",
      "source": [
        "## write tables and send to the database server\n",
        "dbWriteTable(con, \"menu\", menu, row.names=FALSE)    # ignore row names\n",
        "dbWriteTable(con, \"type\", type, row.names=FALSE)\n",
        "dbWriteTable(con, \"bridge_table\", bridge_table, row.names=FALSE)"
      ],
      "metadata": {
        "colab": {
          "base_uri": "https://localhost:8080/",
          "height": 69
        },
        "id": "B1ja__XORZD_",
        "outputId": "c5c4d36b-616d-42b3-89b2-f2fc7a802b25"
      },
      "execution_count": null,
      "outputs": [
        {
          "output_type": "display_data",
          "data": {
            "text/html": [
              "TRUE"
            ],
            "text/markdown": "TRUE",
            "text/latex": "TRUE",
            "text/plain": [
              "[1] TRUE"
            ]
          },
          "metadata": {}
        },
        {
          "output_type": "display_data",
          "data": {
            "text/html": [
              "TRUE"
            ],
            "text/markdown": "TRUE",
            "text/latex": "TRUE",
            "text/plain": [
              "[1] TRUE"
            ]
          },
          "metadata": {}
        },
        {
          "output_type": "display_data",
          "data": {
            "text/html": [
              "TRUE"
            ],
            "text/markdown": "TRUE",
            "text/latex": "TRUE",
            "text/plain": [
              "[1] TRUE"
            ]
          },
          "metadata": {}
        }
      ]
    },
    {
      "cell_type": "code",
      "source": [
        "## show tables in the database server\n",
        "dbListTables(con)"
      ],
      "metadata": {
        "colab": {
          "base_uri": "https://localhost:8080/",
          "height": 34
        },
        "outputId": "fdf89540-4fd3-49f8-fb46-dd923c7ea926",
        "id": "XkyKzxxoTIwm"
      },
      "execution_count": null,
      "outputs": [
        {
          "output_type": "display_data",
          "data": {
            "text/html": [
              "<style>\n",
              ".list-inline {list-style: none; margin:0; padding: 0}\n",
              ".list-inline>li {display: inline-block}\n",
              ".list-inline>li:not(:last-child)::after {content: \"\\00b7\"; padding: 0 .5ex}\n",
              "</style>\n",
              "<ol class=list-inline><li>'menu'</li><li>'type'</li><li>'bridge_table'</li></ol>\n"
            ],
            "text/markdown": "1. 'menu'\n2. 'type'\n3. 'bridge_table'\n\n\n",
            "text/latex": "\\begin{enumerate*}\n\\item 'menu'\n\\item 'type'\n\\item 'bridge\\_table'\n\\end{enumerate*}\n",
            "text/plain": [
              "[1] \"menu\"         \"type\"         \"bridge_table\""
            ]
          },
          "metadata": {}
        }
      ]
    },
    {
      "cell_type": "code",
      "source": [
        "## get data from the database server\n",
        "menu_info <- dbGetQuery(con, \n",
        "                \"SELECT \n",
        "                    m.menu_item AS menu,\n",
        "                    m.price,\n",
        "                    t.type_item AS type\n",
        "                FROM menu AS m\n",
        "                JOIN bridge_table AS b ON m.menu_id = b.menu_id\n",
        "                JOIN type AS t ON b.type_id = t.type_id\n",
        "                ORDER BY 1\")\n",
        "menu_info"
      ],
      "metadata": {
        "colab": {
          "base_uri": "https://localhost:8080/",
          "height": 536
        },
        "id": "HToeDDCITZ_m",
        "outputId": "0dbf1c4f-b9a3-46c5-bc80-16f0a31903f2"
      },
      "execution_count": null,
      "outputs": [
        {
          "output_type": "display_data",
          "data": {
            "text/html": [
              "<table class=\"dataframe\">\n",
              "<caption>A data.frame: 14 × 3</caption>\n",
              "<thead>\n",
              "\t<tr><th></th><th scope=col>menu</th><th scope=col>price</th><th scope=col>type</th></tr>\n",
              "\t<tr><th></th><th scope=col>&lt;chr&gt;</th><th scope=col>&lt;dbl&gt;</th><th scope=col>&lt;chr&gt;</th></tr>\n",
              "</thead>\n",
              "<tbody>\n",
              "\t<tr><th scope=row>1</th><td>Fried Rice           </td><td>40</td><td>Non-Spicy</td></tr>\n",
              "\t<tr><th scope=row>2</th><td>Fried Rice           </td><td>40</td><td>Rice     </td></tr>\n",
              "\t<tr><th scope=row>3</th><td>Pad Thai             </td><td>50</td><td>Non-Spicy</td></tr>\n",
              "\t<tr><th scope=row>4</th><td>Pad Thai             </td><td>50</td><td>Noodle   </td></tr>\n",
              "\t<tr><th scope=row>5</th><td>Rice Soup            </td><td>40</td><td>Rice     </td></tr>\n",
              "\t<tr><th scope=row>6</th><td>Rice Soup            </td><td>40</td><td>Soup     </td></tr>\n",
              "\t<tr><th scope=row>7</th><td>Rice Soup            </td><td>40</td><td>Non-Spicy</td></tr>\n",
              "\t<tr><th scope=row>8</th><td>Spicy Basil          </td><td>40</td><td>Spicy    </td></tr>\n",
              "\t<tr><th scope=row>9</th><td>Spicy Basil          </td><td>40</td><td>Rice     </td></tr>\n",
              "\t<tr><th scope=row>10</th><td>Tom Yum              </td><td>80</td><td>Soup     </td></tr>\n",
              "\t<tr><th scope=row>11</th><td>Tom Yum              </td><td>80</td><td>Spicy    </td></tr>\n",
              "\t<tr><th scope=row>12</th><td>Wide Rice Noodle Soup</td><td>40</td><td>Non-Spicy</td></tr>\n",
              "\t<tr><th scope=row>13</th><td>Wide Rice Noodle Soup</td><td>40</td><td>Soup     </td></tr>\n",
              "\t<tr><th scope=row>14</th><td>Wide Rice Noodle Soup</td><td>40</td><td>Noodle   </td></tr>\n",
              "</tbody>\n",
              "</table>\n"
            ],
            "text/markdown": "\nA data.frame: 14 × 3\n\n| <!--/--> | menu &lt;chr&gt; | price &lt;dbl&gt; | type &lt;chr&gt; |\n|---|---|---|---|\n| 1 | Fried Rice            | 40 | Non-Spicy |\n| 2 | Fried Rice            | 40 | Rice      |\n| 3 | Pad Thai              | 50 | Non-Spicy |\n| 4 | Pad Thai              | 50 | Noodle    |\n| 5 | Rice Soup             | 40 | Rice      |\n| 6 | Rice Soup             | 40 | Soup      |\n| 7 | Rice Soup             | 40 | Non-Spicy |\n| 8 | Spicy Basil           | 40 | Spicy     |\n| 9 | Spicy Basil           | 40 | Rice      |\n| 10 | Tom Yum               | 80 | Soup      |\n| 11 | Tom Yum               | 80 | Spicy     |\n| 12 | Wide Rice Noodle Soup | 40 | Non-Spicy |\n| 13 | Wide Rice Noodle Soup | 40 | Soup      |\n| 14 | Wide Rice Noodle Soup | 40 | Noodle    |\n\n",
            "text/latex": "A data.frame: 14 × 3\n\\begin{tabular}{r|lll}\n  & menu & price & type\\\\\n  & <chr> & <dbl> & <chr>\\\\\n\\hline\n\t1 & Fried Rice            & 40 & Non-Spicy\\\\\n\t2 & Fried Rice            & 40 & Rice     \\\\\n\t3 & Pad Thai              & 50 & Non-Spicy\\\\\n\t4 & Pad Thai              & 50 & Noodle   \\\\\n\t5 & Rice Soup             & 40 & Rice     \\\\\n\t6 & Rice Soup             & 40 & Soup     \\\\\n\t7 & Rice Soup             & 40 & Non-Spicy\\\\\n\t8 & Spicy Basil           & 40 & Spicy    \\\\\n\t9 & Spicy Basil           & 40 & Rice     \\\\\n\t10 & Tom Yum               & 80 & Soup     \\\\\n\t11 & Tom Yum               & 80 & Spicy    \\\\\n\t12 & Wide Rice Noodle Soup & 40 & Non-Spicy\\\\\n\t13 & Wide Rice Noodle Soup & 40 & Soup     \\\\\n\t14 & Wide Rice Noodle Soup & 40 & Noodle   \\\\\n\\end{tabular}\n",
            "text/plain": [
              "   menu                  price type     \n",
              "1  Fried Rice            40    Non-Spicy\n",
              "2  Fried Rice            40    Rice     \n",
              "3  Pad Thai              50    Non-Spicy\n",
              "4  Pad Thai              50    Noodle   \n",
              "5  Rice Soup             40    Rice     \n",
              "6  Rice Soup             40    Soup     \n",
              "7  Rice Soup             40    Non-Spicy\n",
              "8  Spicy Basil           40    Spicy    \n",
              "9  Spicy Basil           40    Rice     \n",
              "10 Tom Yum               80    Soup     \n",
              "11 Tom Yum               80    Spicy    \n",
              "12 Wide Rice Noodle Soup 40    Non-Spicy\n",
              "13 Wide Rice Noodle Soup 40    Soup     \n",
              "14 Wide Rice Noodle Soup 40    Noodle   "
            ]
          },
          "metadata": {}
        }
      ]
    },
    {
      "cell_type": "code",
      "source": [
        "## manipulate data\n",
        "my_score_food <- dbGetQuery(con, \"SELECT * FROM menu\")\n",
        "my_score_food %>%\n",
        "    mutate(score = c(10, 8, 9, 9, 7, 8))"
      ],
      "metadata": {
        "colab": {
          "base_uri": "https://localhost:8080/",
          "height": 286
        },
        "id": "PUY9XWYNU7e_",
        "outputId": "bef04130-44d4-4cf0-91ba-08764d124c48"
      },
      "execution_count": null,
      "outputs": [
        {
          "output_type": "display_data",
          "data": {
            "text/html": [
              "<table class=\"dataframe\">\n",
              "<caption>A data.frame: 6 × 4</caption>\n",
              "<thead>\n",
              "\t<tr><th></th><th scope=col>menu_id</th><th scope=col>menu_item</th><th scope=col>price</th><th scope=col>score</th></tr>\n",
              "\t<tr><th></th><th scope=col>&lt;int&gt;</th><th scope=col>&lt;chr&gt;</th><th scope=col>&lt;dbl&gt;</th><th scope=col>&lt;dbl&gt;</th></tr>\n",
              "</thead>\n",
              "<tbody>\n",
              "\t<tr><th scope=row>1</th><td>1</td><td>Spicy Basil          </td><td>40</td><td>10</td></tr>\n",
              "\t<tr><th scope=row>2</th><td>2</td><td>Fried Rice           </td><td>40</td><td> 8</td></tr>\n",
              "\t<tr><th scope=row>3</th><td>3</td><td>Tom Yum              </td><td>80</td><td> 9</td></tr>\n",
              "\t<tr><th scope=row>4</th><td>4</td><td>Pad Thai             </td><td>50</td><td> 9</td></tr>\n",
              "\t<tr><th scope=row>5</th><td>5</td><td>Rice Soup            </td><td>40</td><td> 7</td></tr>\n",
              "\t<tr><th scope=row>6</th><td>6</td><td>Wide Rice Noodle Soup</td><td>40</td><td> 8</td></tr>\n",
              "</tbody>\n",
              "</table>\n"
            ],
            "text/markdown": "\nA data.frame: 6 × 4\n\n| <!--/--> | menu_id &lt;int&gt; | menu_item &lt;chr&gt; | price &lt;dbl&gt; | score &lt;dbl&gt; |\n|---|---|---|---|---|\n| 1 | 1 | Spicy Basil           | 40 | 10 |\n| 2 | 2 | Fried Rice            | 40 |  8 |\n| 3 | 3 | Tom Yum               | 80 |  9 |\n| 4 | 4 | Pad Thai              | 50 |  9 |\n| 5 | 5 | Rice Soup             | 40 |  7 |\n| 6 | 6 | Wide Rice Noodle Soup | 40 |  8 |\n\n",
            "text/latex": "A data.frame: 6 × 4\n\\begin{tabular}{r|llll}\n  & menu\\_id & menu\\_item & price & score\\\\\n  & <int> & <chr> & <dbl> & <dbl>\\\\\n\\hline\n\t1 & 1 & Spicy Basil           & 40 & 10\\\\\n\t2 & 2 & Fried Rice            & 40 &  8\\\\\n\t3 & 3 & Tom Yum               & 80 &  9\\\\\n\t4 & 4 & Pad Thai              & 50 &  9\\\\\n\t5 & 5 & Rice Soup             & 40 &  7\\\\\n\t6 & 6 & Wide Rice Noodle Soup & 40 &  8\\\\\n\\end{tabular}\n",
            "text/plain": [
              "  menu_id menu_item             price score\n",
              "1 1       Spicy Basil           40    10   \n",
              "2 2       Fried Rice            40     8   \n",
              "3 3       Tom Yum               80     9   \n",
              "4 4       Pad Thai              50     9   \n",
              "5 5       Rice Soup             40     7   \n",
              "6 6       Wide Rice Noodle Soup 40     8   "
            ]
          },
          "metadata": {}
        }
      ]
    },
    {
      "cell_type": "code",
      "source": [
        "## close the connection\n",
        "dbDisconnect(con)"
      ],
      "metadata": {
        "colab": {
          "base_uri": "https://localhost:8080/",
          "height": 34
        },
        "id": "zztFGr7HWPNQ",
        "outputId": "f774eb76-1506-4d0e-ebad-b4bed7600d12"
      },
      "execution_count": null,
      "outputs": [
        {
          "output_type": "display_data",
          "data": {
            "text/html": [
              "TRUE"
            ],
            "text/markdown": "TRUE",
            "text/latex": "TRUE",
            "text/plain": [
              "[1] TRUE"
            ]
          },
          "metadata": {}
        }
      ]
    }
  ]
}