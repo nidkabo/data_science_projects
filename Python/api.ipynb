{
  "nbformat": 4,
  "nbformat_minor": 0,
  "metadata": {
    "colab": {
      "provenance": [],
      "authorship_tag": "ABX9TyPdwGix7aDiWZgmJdxJZGSX",
      "include_colab_link": true
    },
    "kernelspec": {
      "name": "python3",
      "display_name": "Python 3"
    },
    "language_info": {
      "name": "python"
    }
  },
  "cells": [
    {
      "cell_type": "markdown",
      "metadata": {
        "id": "view-in-github",
        "colab_type": "text"
      },
      "source": [
        "<a href=\"https://colab.research.google.com/github/nidkabo/data_science_projects/blob/main/Python/api.ipynb\" target=\"_parent\"><img src=\"https://colab.research.google.com/assets/colab-badge.svg\" alt=\"Open In Colab\"/></a>"
      ]
    },
    {
      "cell_type": "markdown",
      "source": [
        "##Python Programming\n",
        "### get Game of Thrones Character data from internet using API\n",
        "**Author**: Nidkamol Boonyanate\n",
        "\n",
        "**Concept**: API\n",
        "\n"
      ],
      "metadata": {
        "id": "3op2cuZwicAN"
      }
    },
    {
      "cell_type": "code",
      "execution_count": null,
      "metadata": {
        "id": "Brqe-1jgiU8u"
      },
      "outputs": [],
      "source": [
        "# import library\n",
        "import pandas as pd\n",
        "from requests import get"
      ]
    },
    {
      "cell_type": "code",
      "source": [
        "# data from https://thronesapi.com/\n",
        "url = \"https://thronesapi.com/api/v2/Characters\"\n",
        "\n",
        "response = get(url)\n",
        "\n",
        "response.status_code"
      ],
      "metadata": {
        "colab": {
          "base_uri": "https://localhost:8080/"
        },
        "id": "0x-5fdcAjHvp",
        "outputId": "414a399d-707b-4f07-acb3-4baaf5359fb8"
      },
      "execution_count": null,
      "outputs": [
        {
          "output_type": "execute_result",
          "data": {
            "text/plain": [
              "200"
            ]
          },
          "metadata": {},
          "execution_count": 2
        }
      ]
    },
    {
      "cell_type": "code",
      "source": [
        "res_json = response.json()\n",
        "\n",
        "# check data structure\n",
        "print(res_json[0])"
      ],
      "metadata": {
        "id": "v-rATlkQl5w-",
        "colab": {
          "base_uri": "https://localhost:8080/"
        },
        "outputId": "85ec0341-e3f0-4b6e-ec74-0f5b235d7543"
      },
      "execution_count": null,
      "outputs": [
        {
          "output_type": "stream",
          "name": "stdout",
          "text": [
            "{'id': 0, 'firstName': 'Daenerys', 'lastName': 'Targaryen', 'fullName': 'Daenerys Targaryen', 'title': 'Mother of Dragons', 'family': 'House Targaryen', 'image': 'daenerys.jpg', 'imageUrl': 'https://thronesapi.com/assets/images/daenerys.jpg'}\n"
          ]
        }
      ]
    },
    {
      "cell_type": "code",
      "source": [
        "# list all key's name\n",
        "for key in res_json[0]: print(key)"
      ],
      "metadata": {
        "colab": {
          "base_uri": "https://localhost:8080/"
        },
        "id": "KNDTZZFkskIV",
        "outputId": "4cf8231b-206f-44c5-b493-1d851b725fa3"
      },
      "execution_count": null,
      "outputs": [
        {
          "output_type": "stream",
          "name": "stdout",
          "text": [
            "id\n",
            "firstName\n",
            "lastName\n",
            "fullName\n",
            "title\n",
            "family\n",
            "image\n",
            "imageUrl\n"
          ]
        }
      ]
    },
    {
      "cell_type": "code",
      "source": [
        "# change data form to pandas dataframe\n",
        "fullname = [character['fullName'] for character in res_json]\n",
        "title = [character['title'] for character in res_json]\n",
        "family = [character['family'] for character in res_json]\n",
        "\n",
        "df = pd.DataFrame({\n",
        "    \"Name\": fullname,\n",
        "    \"Title\": title,\n",
        "    \"Family\": family\n",
        "})\n",
        "\n",
        "df.head()"
      ],
      "metadata": {
        "colab": {
          "base_uri": "https://localhost:8080/",
          "height": 206
        },
        "id": "GFlJxTyQoQZO",
        "outputId": "fa075d99-c5f9-4a58-ac78-acf5ba08e492"
      },
      "execution_count": null,
      "outputs": [
        {
          "output_type": "execute_result",
          "data": {
            "text/plain": [
              "                 Name               Title           Family\n",
              "0  Daenerys Targaryen   Mother of Dragons  House Targaryen\n",
              "1       Samwell Tarly             Maester      House Tarly\n",
              "2            Jon Snow   King of the North      House Stark\n",
              "3          Arya Stark              No One      House Stark\n",
              "4         Sansa Stark  Lady of Winterfell      House Stark"
            ],
            "text/html": [
              "\n",
              "  <div id=\"df-dec2ef98-38b8-4480-95fe-2f942bf1fa76\">\n",
              "    <div class=\"colab-df-container\">\n",
              "      <div>\n",
              "<style scoped>\n",
              "    .dataframe tbody tr th:only-of-type {\n",
              "        vertical-align: middle;\n",
              "    }\n",
              "\n",
              "    .dataframe tbody tr th {\n",
              "        vertical-align: top;\n",
              "    }\n",
              "\n",
              "    .dataframe thead th {\n",
              "        text-align: right;\n",
              "    }\n",
              "</style>\n",
              "<table border=\"1\" class=\"dataframe\">\n",
              "  <thead>\n",
              "    <tr style=\"text-align: right;\">\n",
              "      <th></th>\n",
              "      <th>Name</th>\n",
              "      <th>Title</th>\n",
              "      <th>Family</th>\n",
              "    </tr>\n",
              "  </thead>\n",
              "  <tbody>\n",
              "    <tr>\n",
              "      <th>0</th>\n",
              "      <td>Daenerys Targaryen</td>\n",
              "      <td>Mother of Dragons</td>\n",
              "      <td>House Targaryen</td>\n",
              "    </tr>\n",
              "    <tr>\n",
              "      <th>1</th>\n",
              "      <td>Samwell Tarly</td>\n",
              "      <td>Maester</td>\n",
              "      <td>House Tarly</td>\n",
              "    </tr>\n",
              "    <tr>\n",
              "      <th>2</th>\n",
              "      <td>Jon Snow</td>\n",
              "      <td>King of the North</td>\n",
              "      <td>House Stark</td>\n",
              "    </tr>\n",
              "    <tr>\n",
              "      <th>3</th>\n",
              "      <td>Arya Stark</td>\n",
              "      <td>No One</td>\n",
              "      <td>House Stark</td>\n",
              "    </tr>\n",
              "    <tr>\n",
              "      <th>4</th>\n",
              "      <td>Sansa Stark</td>\n",
              "      <td>Lady of Winterfell</td>\n",
              "      <td>House Stark</td>\n",
              "    </tr>\n",
              "  </tbody>\n",
              "</table>\n",
              "</div>\n",
              "      <button class=\"colab-df-convert\" onclick=\"convertToInteractive('df-dec2ef98-38b8-4480-95fe-2f942bf1fa76')\"\n",
              "              title=\"Convert this dataframe to an interactive table.\"\n",
              "              style=\"display:none;\">\n",
              "        \n",
              "  <svg xmlns=\"http://www.w3.org/2000/svg\" height=\"24px\"viewBox=\"0 0 24 24\"\n",
              "       width=\"24px\">\n",
              "    <path d=\"M0 0h24v24H0V0z\" fill=\"none\"/>\n",
              "    <path d=\"M18.56 5.44l.94 2.06.94-2.06 2.06-.94-2.06-.94-.94-2.06-.94 2.06-2.06.94zm-11 1L8.5 8.5l.94-2.06 2.06-.94-2.06-.94L8.5 2.5l-.94 2.06-2.06.94zm10 10l.94 2.06.94-2.06 2.06-.94-2.06-.94-.94-2.06-.94 2.06-2.06.94z\"/><path d=\"M17.41 7.96l-1.37-1.37c-.4-.4-.92-.59-1.43-.59-.52 0-1.04.2-1.43.59L10.3 9.45l-7.72 7.72c-.78.78-.78 2.05 0 2.83L4 21.41c.39.39.9.59 1.41.59.51 0 1.02-.2 1.41-.59l7.78-7.78 2.81-2.81c.8-.78.8-2.07 0-2.86zM5.41 20L4 18.59l7.72-7.72 1.47 1.35L5.41 20z\"/>\n",
              "  </svg>\n",
              "      </button>\n",
              "      \n",
              "  <style>\n",
              "    .colab-df-container {\n",
              "      display:flex;\n",
              "      flex-wrap:wrap;\n",
              "      gap: 12px;\n",
              "    }\n",
              "\n",
              "    .colab-df-convert {\n",
              "      background-color: #E8F0FE;\n",
              "      border: none;\n",
              "      border-radius: 50%;\n",
              "      cursor: pointer;\n",
              "      display: none;\n",
              "      fill: #1967D2;\n",
              "      height: 32px;\n",
              "      padding: 0 0 0 0;\n",
              "      width: 32px;\n",
              "    }\n",
              "\n",
              "    .colab-df-convert:hover {\n",
              "      background-color: #E2EBFA;\n",
              "      box-shadow: 0px 1px 2px rgba(60, 64, 67, 0.3), 0px 1px 3px 1px rgba(60, 64, 67, 0.15);\n",
              "      fill: #174EA6;\n",
              "    }\n",
              "\n",
              "    [theme=dark] .colab-df-convert {\n",
              "      background-color: #3B4455;\n",
              "      fill: #D2E3FC;\n",
              "    }\n",
              "\n",
              "    [theme=dark] .colab-df-convert:hover {\n",
              "      background-color: #434B5C;\n",
              "      box-shadow: 0px 1px 3px 1px rgba(0, 0, 0, 0.15);\n",
              "      filter: drop-shadow(0px 1px 2px rgba(0, 0, 0, 0.3));\n",
              "      fill: #FFFFFF;\n",
              "    }\n",
              "  </style>\n",
              "\n",
              "      <script>\n",
              "        const buttonEl =\n",
              "          document.querySelector('#df-dec2ef98-38b8-4480-95fe-2f942bf1fa76 button.colab-df-convert');\n",
              "        buttonEl.style.display =\n",
              "          google.colab.kernel.accessAllowed ? 'block' : 'none';\n",
              "\n",
              "        async function convertToInteractive(key) {\n",
              "          const element = document.querySelector('#df-dec2ef98-38b8-4480-95fe-2f942bf1fa76');\n",
              "          const dataTable =\n",
              "            await google.colab.kernel.invokeFunction('convertToInteractive',\n",
              "                                                     [key], {});\n",
              "          if (!dataTable) return;\n",
              "\n",
              "          const docLinkHtml = 'Like what you see? Visit the ' +\n",
              "            '<a target=\"_blank\" href=https://colab.research.google.com/notebooks/data_table.ipynb>data table notebook</a>'\n",
              "            + ' to learn more about interactive tables.';\n",
              "          element.innerHTML = '';\n",
              "          dataTable['output_type'] = 'display_data';\n",
              "          await google.colab.output.renderOutput(dataTable, element);\n",
              "          const docLink = document.createElement('div');\n",
              "          docLink.innerHTML = docLinkHtml;\n",
              "          element.appendChild(docLink);\n",
              "        }\n",
              "      </script>\n",
              "    </div>\n",
              "  </div>\n",
              "  "
            ]
          },
          "metadata": {},
          "execution_count": 9
        }
      ]
    },
    {
      "cell_type": "code",
      "source": [
        "# get all characters in House Stark\n",
        "\n",
        "df_stark = df.query(\"Family == 'House Stark'\")\n",
        "\n",
        "print(df_stark)"
      ],
      "metadata": {
        "id": "yaoT8BM6mCTJ",
        "colab": {
          "base_uri": "https://localhost:8080/"
        },
        "outputId": "e5e45a84-8ce9-417e-a2ee-69d7db11e57c"
      },
      "execution_count": null,
      "outputs": [
        {
          "output_type": "stream",
          "name": "stdout",
          "text": [
            "             Name               Title       Family\n",
            "2        Jon Snow   King of the North  House Stark\n",
            "3      Arya Stark              No One  House Stark\n",
            "4     Sansa Stark  Lady of Winterfell  House Stark\n",
            "5   Brandon Stark  Lord of Winterfell  House Stark\n",
            "6       Ned Stark  Lord of Winterfell  House Stark\n",
            "10  Catelyn Stark  Lady of Winterfell  House Stark\n",
            "11      Rob Stark  Lord of Winterfell  House Stark\n"
          ]
        }
      ]
    }
  ]
}