# import library
import pandas as pd
from requests import get

# data from https://thronesapi.com/
url = "https://thronesapi.com/api/v2/Characters"

response = get(url)

response.status_code

res_json = response.json()

# check data structure
print(res_json)

# list all key's name
for key in res_json[0]: print(key)

# change data form to pandas dataframe
fullname = [character['fullName'] for character in res_json]
title = [character['title'] for character in res_json]
family = [character['family'] for character in res_json]

df = pd.DataFrame({
    "Name": fullname,
    "Title": title,
    "Family": family
})

df.head()

# get all characters in House Stark

df_stark = df.query("Family == 'House Stark'")

print(df_stark)
