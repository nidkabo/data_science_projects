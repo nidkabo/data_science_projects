{
  "nbformat": 4,
  "nbformat_minor": 0,
  "metadata": {
    "colab": {
      "provenance": [],
      "authorship_tag": "ABX9TyM0F8izUkv6ASxmHJJdzb1C",
      "include_colab_link": true
    },
    "kernelspec": {
      "name": "python3",
      "display_name": "Python 3"
    },
    "language_info": {
      "name": "python"
    }
  },
  "cells": [
    {
      "cell_type": "markdown",
      "metadata": {
        "id": "view-in-github",
        "colab_type": "text"
      },
      "source": [
        "<a href=\"https://colab.research.google.com/github/nidkabo/data_science_projects/blob/main/api.ipynb\" target=\"_parent\"><img src=\"https://colab.research.google.com/assets/colab-badge.svg\" alt=\"Open In Colab\"/></a>"
      ]
    },
    {
      "cell_type": "markdown",
      "source": [
        "##Python Programming\n",
        "### get Game of Thrones Character data from internet using API\n",
        "**Author**: Nidkamol Boonyanate\n",
        "\n",
        "**Concept**: API\n",
        "\n"
      ],
      "metadata": {
        "id": "3op2cuZwicAN"
      }
    },
    {
      "cell_type": "code",
      "execution_count": null,
      "metadata": {
        "id": "Brqe-1jgiU8u"
      },
      "outputs": [],
      "source": [
        "# import library\n",
        "import pandas as pd\n",
        "from requests import get"
      ]
    },
    {
      "cell_type": "code",
      "source": [
        "# data from https://thronesapi.com/\n",
        "url = \"https://thronesapi.com/api/v2/Characters\"\n",
        "\n",
        "response = get(url)\n",
        "\n",
        "response.status_code"
      ],
      "metadata": {
        "colab": {
          "base_uri": "https://localhost:8080/"
        },
        "id": "0x-5fdcAjHvp",
        "outputId": "e29565f5-4f6f-4bb4-ece0-b70c91dfd2c8"
      },
      "execution_count": null,
      "outputs": [
        {
          "output_type": "execute_result",
          "data": {
            "text/plain": [
              "200"
            ]
          },
          "metadata": {},
          "execution_count": 2
        }
      ]
    },
    {
      "cell_type": "code",
      "source": [
        "res_json = response.json()\n",
        "\n",
        "# check data structure\n",
        "print(res_json)"
      ],
      "metadata": {
        "id": "v-rATlkQl5w-",
        "colab": {
          "base_uri": "https://localhost:8080/"
        },
        "outputId": "ecccce3c-f511-482d-861e-f23f19d6d1ec"
      },
      "execution_count": null,
      "outputs": [
        {
          "output_type": "stream",
          "name": "stdout",
          "text": [
            "[{'id': 0, 'firstName': 'Daenerys', 'lastName': 'Targaryen', 'fullName': 'Daenerys Targaryen', 'title': 'Mother of Dragons', 'family': 'House Targaryen', 'image': 'daenerys.jpg', 'imageUrl': 'https://thronesapi.com/assets/images/daenerys.jpg'}, {'id': 1, 'firstName': 'Samwell', 'lastName': 'Tarly', 'fullName': 'Samwell Tarly', 'title': 'Maester', 'family': 'House Tarly', 'image': 'sam.jpg', 'imageUrl': 'https://thronesapi.com/assets/images/sam.jpg'}, {'id': 2, 'firstName': 'Jon', 'lastName': 'Snow', 'fullName': 'Jon Snow', 'title': 'King of the North', 'family': 'House Stark', 'image': 'jon-snow.jpg', 'imageUrl': 'https://thronesapi.com/assets/images/jon-snow.jpg'}, {'id': 3, 'firstName': 'Arya', 'lastName': 'Stark', 'fullName': 'Arya Stark', 'title': 'No One', 'family': 'House Stark', 'image': 'arya-stark.jpg', 'imageUrl': 'https://thronesapi.com/assets/images/arya-stark.jpg'}, {'id': 4, 'firstName': 'Sansa', 'lastName': 'Stark', 'fullName': 'Sansa Stark', 'title': 'Lady of Winterfell', 'family': 'House Stark', 'image': 'sansa-stark.jpeg', 'imageUrl': 'https://thronesapi.com/assets/images/sansa-stark.jpeg'}, {'id': 5, 'firstName': 'Brandon', 'lastName': 'Stark', 'fullName': 'Brandon Stark', 'title': 'Lord of Winterfell', 'family': 'House Stark', 'image': 'bran-stark.jpg', 'imageUrl': 'https://thronesapi.com/assets/images/bran-stark.jpg'}, {'id': 6, 'firstName': 'Ned', 'lastName': 'Stark', 'fullName': 'Ned Stark', 'title': 'Lord of Winterfell', 'family': 'House Stark', 'image': 'ned-stark.jpg', 'imageUrl': 'https://thronesapi.com/assets/images/ned-stark.jpg'}, {'id': 7, 'firstName': 'Robert', 'lastName': 'Baratheon', 'fullName': 'Robert Baratheon', 'title': 'Lord of the Seven Kingdoms', 'family': 'House Baratheon', 'image': 'robert-baratheon.jpeg', 'imageUrl': 'https://thronesapi.com/assets/images/robert-baratheon.jpeg'}, {'id': 8, 'firstName': 'Jamie', 'lastName': 'Lannister', 'fullName': 'Jamie Lannister', 'title': 'Lord Commander of the Kingsguard', 'family': 'House Lannister', 'image': 'jaime-lannister.jpg', 'imageUrl': 'https://thronesapi.com/assets/images/jaime-lannister.jpg'}, {'id': 9, 'firstName': 'Cersei', 'lastName': 'Lannister', 'fullName': 'Cersei Lannister', 'title': 'Lady of Casterly Rock', 'family': 'House Lannister', 'image': 'cersei.jpg', 'imageUrl': 'https://thronesapi.com/assets/images/cersei.jpg'}, {'id': 10, 'firstName': 'Cateyln', 'lastName': 'Stark', 'fullName': 'Catelyn Stark', 'title': 'Lady of Winterfell', 'family': 'House Stark', 'image': 'catelyn-stark.jpg', 'imageUrl': 'https://thronesapi.com/assets/images/catelyn-stark.jpg'}, {'id': 11, 'firstName': 'Robb', 'lastName': 'Stark', 'fullName': 'Rob Stark', 'title': 'Lord of Winterfell', 'family': 'House Stark', 'image': 'robb-stark.jpg', 'imageUrl': 'https://thronesapi.com/assets/images/robb-stark.jpg'}, {'id': 12, 'firstName': 'Theon', 'lastName': 'Greyjoy', 'fullName': 'Theon Greyjoy', 'title': 'Captain of Sea Bitch', 'family': 'House Greyjoy', 'image': 'theon.jpg', 'imageUrl': 'https://thronesapi.com/assets/images/theon.jpg'}, {'id': 13, 'firstName': 'Joffrey', 'lastName': 'Baratheon', 'fullName': 'Joffrey Baratheon', 'title': 'Lord of the Seven Kingdoms, Protector of the Realm', 'family': 'House Lanister', 'image': 'joffrey.jpg', 'imageUrl': 'https://thronesapi.com/assets/images/joffrey.jpg'}, {'id': 14, 'firstName': 'Tyrion', 'lastName': 'Lannister', 'fullName': 'Tyrion Lannister', 'title': 'Hand of the Queen', 'family': 'House Lanister', 'image': 'tyrion-lannister.jpg', 'imageUrl': 'https://thronesapi.com/assets/images/tyrion-lannister.jpg'}, {'id': 15, 'firstName': 'Sandor', 'lastName': 'Clegane', 'fullName': 'The Hound', 'title': 'The Hound', 'family': 'House Clegane', 'image': 'the-hound.jpg', 'imageUrl': 'https://thronesapi.com/assets/images/the-hound.jpg'}, {'id': 16, 'firstName': 'Petyr', 'lastName': 'Baelish', 'fullName': 'Petyr Baelish', 'title': 'Littlefinger', 'family': 'House Baelish', 'image': 'littlefinger.jpg', 'imageUrl': 'https://thronesapi.com/assets/images/littlefinger.jpg'}, {'id': 17, 'firstName': 'Davos', 'lastName': 'Seaworth', 'fullName': 'Davos Seaworth', 'title': 'Hand of the King', 'family': 'House Seaworth', 'image': 'davos-seaworth.png', 'imageUrl': 'https://thronesapi.com/assets/images/davos-seaworth.png'}, {'id': 18, 'firstName': 'Stannis', 'lastName': 'Baratheon', 'fullName': 'Stannis Baratheon', 'title': 'Lord of Dragonstone', 'family': 'House Baratheon', 'image': 'stannis.jpg', 'imageUrl': 'https://thronesapi.com/assets/images/stannis.jpg'}, {'id': 19, 'firstName': 'Varys', 'lastName': 'Unknown', 'fullName': 'Varys', 'title': 'Master of Whisperers', 'family': 'Unknown', 'image': 'varys.jpg', 'imageUrl': 'https://thronesapi.com/assets/images/varys.jpg'}, {'id': 20, 'firstName': 'Khal', 'lastName': 'Drogo', 'fullName': 'Khal Drogo', 'title': 'Khal', 'family': 'House Targaryen', 'image': 'khal-drogo.jpg', 'imageUrl': 'https://thronesapi.com/assets/images/khal-drogo.jpg'}, {'id': 21, 'firstName': 'Margaery', 'lastName': 'Tyrell', 'fullName': 'Margaery Tyrell', 'title': 'Queen of the Seven Kingdoms', 'family': 'House Tyrell', 'image': 'margaery-tyrell.jpg', 'imageUrl': 'https://thronesapi.com/assets/images/margaery-tyrell.jpg'}, {'id': 22, 'firstName': 'Ygritte', 'lastName': 'None', 'fullName': 'Ygritte', 'title': 'Spearwife', 'family': 'Free Folk', 'image': 'ygritte.jpg', 'imageUrl': 'https://thronesapi.com/assets/images/ygritte.jpg'}, {'id': 23, 'firstName': 'Brienne', 'lastName': 'Tarth', 'fullName': 'Brienne of Tarth', 'title': 'Lady Brienne', 'family': 'Tarth', 'image': 'brienne-tarth.jpeg', 'imageUrl': 'https://thronesapi.com/assets/images/brienne-tarth.jpeg'}, {'id': 24, 'firstName': 'Missandei', 'lastName': 'None', 'fullName': 'Missandei', 'title': \"Queen's Personal Advisor\", 'family': 'Naathi', 'image': 'missandei.jpeg', 'imageUrl': 'https://thronesapi.com/assets/images/missandei.jpeg'}, {'id': 25, 'firstName': 'Gilly', 'lastName': 'None', 'fullName': 'Gilly', 'title': 'The Rabbit Keeper', 'family': 'None', 'image': 'gilly.jpg', 'imageUrl': 'https://thronesapi.com/assets/images/gilly.jpg'}, {'id': 26, 'firstName': 'Viserys', 'lastName': 'Targaryan', 'fullName': 'Viserys Targaryn', 'title': 'King Viserys III', 'family': 'Targaryan', 'image': 'viserys-targaryan.jpg', 'imageUrl': 'https://thronesapi.com/assets/images/viserys-targaryan.jpg'}, {'id': 27, 'firstName': 'Rickon', 'lastName': 'Stark', 'fullName': 'Rickon Stark', 'title': 'Prince', 'family': 'Stark', 'image': 'rickon.jpg', 'imageUrl': 'https://thronesapi.com/assets/images/rickon.jpg'}, {'id': 28, 'firstName': 'Roose', 'lastName': 'Bolton', 'fullName': 'Roose Bolton', 'title': 'Lord of Dreadfort', 'family': 'Bolton', 'image': 'roose-bolton.jpg', 'imageUrl': 'https://thronesapi.com/assets/images/roose-bolton.jpg'}, {'id': 29, 'firstName': 'Daario', 'lastName': 'Naharis', 'fullName': 'Daario', 'title': 'Commander of the Second Sons', 'family': 'Naharis', 'image': 'daario.jpg', 'imageUrl': 'https://thronesapi.com/assets/images/daario.jpg'}, {'id': 30, 'firstName': 'Shae', 'lastName': '', 'fullName': 'Shae', 'title': 'Mistress', 'family': 'Lorathi', 'image': 'shae.jpg', 'imageUrl': 'https://thronesapi.com/assets/images/shae.jpg'}, {'id': 31, 'firstName': 'Tommen', 'lastName': 'Baratheon', 'fullName': 'Tommen Baratheon', 'title': 'Prince', 'family': 'Baratheon', 'image': 'tommen.jpg', 'imageUrl': 'https://thronesapi.com/assets/images/tommen.jpg'}, {'id': 32, 'firstName': 'Gendry', 'lastName': 'Baratheon', 'fullName': 'Gendry Baratheon', 'title': \"Lord of Storm's End\", 'family': 'Baratheon', 'image': 'gendry.jpg', 'imageUrl': 'https://thronesapi.com/assets/images/gendry.jpg'}, {'id': 33, 'firstName': 'Jorah', 'lastName': 'Mormont', 'fullName': 'Jorah Mormont', 'title': 'Knight', 'family': 'Mormont', 'image': 'jorah-mormont.jpg', 'imageUrl': 'https://thronesapi.com/assets/images/jorah-mormont.jpg'}, {'id': 34, 'firstName': 'Robert', 'lastName': 'Baratheon', 'fullName': 'Robert Baratheon', 'title': 'King', 'family': 'Baratheon', 'image': 'king-robert.jpg', 'imageUrl': 'https://thronesapi.com/assets/images/king-robert.jpg'}, {'id': 35, 'firstName': 'Ramsey', 'lastName': 'Bolton', 'fullName': 'Ramsey Bolton', 'title': 'The Bastard of Bolton', 'family': 'Bolton', 'image': 'ramsey-bolton.jpg', 'imageUrl': 'https://thronesapi.com/assets/images/ramsey-bolton.jpg'}, {'id': 36, 'firstName': 'Talisa', 'lastName': 'Stark', 'fullName': 'Talisa Stark', 'title': 'Queen Consort', 'family': 'Stark', 'image': 'talisa-stark.jpg', 'imageUrl': 'https://thronesapi.com/assets/images/talisa-stark.jpg'}, {'id': 37, 'firstName': 'Jeor', 'lastName': 'Mormont', 'fullName': 'Jeor Mormont', 'title': \"Lord Commander of the Knight's Watch\", 'family': 'Mormont', 'image': 'lord-commander-mormont.jpg', 'imageUrl': 'https://thronesapi.com/assets/images/lord-commander-mormont.jpg'}, {'id': 38, 'firstName': 'The High', 'lastName': 'Sparrow', 'fullName': 'The High Sparrow', 'title': 'High Septon', 'family': 'Sparrow', 'image': 'the-high-sparrow.jpg', 'imageUrl': 'https://thronesapi.com/assets/images/the-high-sparrow.jpg'}, {'id': 39, 'firstName': 'Oberyn', 'lastName': 'Martell', 'fullName': 'Oberyn Martell', 'title': 'Red Viper of Dorne', 'family': 'Viper', 'image': 'red-viper.jpg', 'imageUrl': 'https://thronesapi.com/assets/images/red-viper.jpg'}, {'id': 40, 'firstName': 'Melisandre', 'lastName': 'The Red Woman', 'fullName': 'Melisandre', 'title': 'Melisandre of Asshai', 'family': 'Unkown', 'image': 'melisandre.jpg', 'imageUrl': 'https://thronesapi.com/assets/images/melisandre.jpg'}, {'id': 41, 'firstName': 'Jaqen', 'lastName': \"H'ghar\", 'fullName': \"Jaqen H'ghar\", 'title': 'Faceless Men of Braavos', 'family': 'Lorath', 'image': 'jaqen-hghar.jpg', 'imageUrl': 'https://thronesapi.com/assets/images/jaqen-hghar.jpg'}, {'id': 42, 'firstName': 'Tywin', 'lastName': 'Lannister', 'fullName': 'Tywin Lannister', 'title': 'Lord Paramount of Westerlands', 'family': 'Lannister', 'image': 'tywin-lannister.jpg', 'imageUrl': 'https://thronesapi.com/assets/images/tywin-lannister.jpg'}, {'id': 43, 'firstName': 'Ellaria', 'lastName': 'Sand', 'fullName': 'Ellaria Sand', 'title': 'Paramour of Prince Oberyn Martell', 'family': 'Sand', 'image': 'ellaria-sand.jpg', 'imageUrl': 'https://thronesapi.com/assets/images/ellaria-sand.jpg'}, {'id': 44, 'firstName': 'Tormund', 'lastName': 'Giantsbane', 'fullName': 'Tormund Giantsbane', 'title': 'Free Folk Warrior', 'family': 'Free Folk', 'image': 'tormund-giantsbane.jpg', 'imageUrl': 'https://thronesapi.com/assets/images/tormund-giantsbane.jpg'}, {'id': 45, 'firstName': 'Yara', 'lastName': 'Greyjoy', 'fullName': 'Yara Greyjoy', 'title': 'Lady of the Iron Islands', 'family': 'Greyjoy', 'image': 'yara-greyjoy.jpg', 'imageUrl': 'https://thronesapi.com/assets/images/yara-greyjoy.jpg'}, {'id': 46, 'firstName': 'Euron', 'lastName': 'Greyjoy', 'fullName': 'Euron Greyjoy', 'title': 'King of the iron Islands', 'family': 'Greyjoy', 'image': 'euron-greyjoy.jpg', 'imageUrl': 'https://thronesapi.com/assets/images/euron-greyjoy.jpg'}, {'id': 47, 'firstName': 'Wylis', 'lastName': 'Hodor', 'fullName': 'Hodor', 'title': 'Servant of House Stark', 'family': 'Stark', 'image': 'hodor.jpg', 'imageUrl': 'https://thronesapi.com/assets/images/hodor.jpg'}, {'id': 48, 'firstName': '', 'lastName': 'Pycelle', 'fullName': 'Pycelle', 'title': 'Grand Maester of the Seven Kingdoms', 'family': '', 'image': 'pycelle.jpg', 'imageUrl': 'https://thronesapi.com/assets/images/pycelle.jpg'}, {'id': 49, 'firstName': 'Grey', 'lastName': 'Worm', 'fullName': 'Grey Worm', 'title': 'Commander of the Unsullied', 'family': 'Worm', 'image': 'greyworm.jpg', 'imageUrl': 'https://thronesapi.com/assets/images/greyworm.jpg'}, {'id': 50, 'firstName': 'Olenna', 'lastName': 'Tyrell', 'fullName': 'Olenna Tyrell', 'title': 'Queen of Thorns', 'family': 'Tyrell', 'image': 'olenna-tyrell.jpg', 'imageUrl': 'https://thronesapi.com/assets/images/olenna-tyrell.jpg'}, {'id': 51, 'firstName': 'Qyburn', 'lastName': 'Grand Maester', 'fullName': 'Qyburn', 'title': 'Former maester of the Citadel', 'family': 'Qyburn', 'image': 'qyburn.jpg', 'imageUrl': 'https://thronesapi.com/assets/images/qyburn.jpg'}, {'id': 52, 'firstName': 'Lord', 'lastName': 'Bronn', 'fullName': 'Lord Bronn', 'title': 'Lord of Highgarden', 'family': 'Bronn', 'image': 'bronn.jpg', 'imageUrl': 'https://thronesapi.com/assets/images/bronn.jpg'}]\n"
          ]
        }
      ]
    },
    {
      "cell_type": "code",
      "source": [
        "# list all key's name\n",
        "for key in res_json[0]: print(key)"
      ],
      "metadata": {
        "colab": {
          "base_uri": "https://localhost:8080/"
        },
        "id": "KNDTZZFkskIV",
        "outputId": "38ad61fe-aaf6-4429-a493-f5e518ba382e"
      },
      "execution_count": null,
      "outputs": [
        {
          "output_type": "stream",
          "name": "stdout",
          "text": [
            "id\n",
            "firstName\n",
            "lastName\n",
            "fullName\n",
            "title\n",
            "family\n",
            "image\n",
            "imageUrl\n"
          ]
        }
      ]
    },
    {
      "cell_type": "code",
      "source": [
        "# change data form to pandas dataframe\n",
        "fullname = [character['fullName'] for character in res_json]\n",
        "title = [character['title'] for character in res_json]\n",
        "family = [character['family'] for character in res_json]\n",
        "\n",
        "df = pd.DataFrame({\n",
        "    \"Name\": fullname,\n",
        "    \"Title\": title,\n",
        "    \"Family\": family\n",
        "})\n",
        "\n",
        "df.head()"
      ],
      "metadata": {
        "colab": {
          "base_uri": "https://localhost:8080/",
          "height": 206
        },
        "id": "GFlJxTyQoQZO",
        "outputId": "674bd0fd-6007-4d43-ad50-0d3fd0c545ab"
      },
      "execution_count": null,
      "outputs": [
        {
          "output_type": "execute_result",
          "data": {
            "text/plain": [
              "                 Name               Title           Family\n",
              "0  Daenerys Targaryen   Mother of Dragons  House Targaryen\n",
              "1       Samwell Tarly             Maester      House Tarly\n",
              "2            Jon Snow   King of the North      House Stark\n",
              "3          Arya Stark              No One      House Stark\n",
              "4         Sansa Stark  Lady of Winterfell      House Stark"
            ],
            "text/html": [
              "\n",
              "  <div id=\"df-e9862a03-f604-42b2-8ebd-8a3af2ddc65c\">\n",
              "    <div class=\"colab-df-container\">\n",
              "      <div>\n",
              "<style scoped>\n",
              "    .dataframe tbody tr th:only-of-type {\n",
              "        vertical-align: middle;\n",
              "    }\n",
              "\n",
              "    .dataframe tbody tr th {\n",
              "        vertical-align: top;\n",
              "    }\n",
              "\n",
              "    .dataframe thead th {\n",
              "        text-align: right;\n",
              "    }\n",
              "</style>\n",
              "<table border=\"1\" class=\"dataframe\">\n",
              "  <thead>\n",
              "    <tr style=\"text-align: right;\">\n",
              "      <th></th>\n",
              "      <th>Name</th>\n",
              "      <th>Title</th>\n",
              "      <th>Family</th>\n",
              "    </tr>\n",
              "  </thead>\n",
              "  <tbody>\n",
              "    <tr>\n",
              "      <th>0</th>\n",
              "      <td>Daenerys Targaryen</td>\n",
              "      <td>Mother of Dragons</td>\n",
              "      <td>House Targaryen</td>\n",
              "    </tr>\n",
              "    <tr>\n",
              "      <th>1</th>\n",
              "      <td>Samwell Tarly</td>\n",
              "      <td>Maester</td>\n",
              "      <td>House Tarly</td>\n",
              "    </tr>\n",
              "    <tr>\n",
              "      <th>2</th>\n",
              "      <td>Jon Snow</td>\n",
              "      <td>King of the North</td>\n",
              "      <td>House Stark</td>\n",
              "    </tr>\n",
              "    <tr>\n",
              "      <th>3</th>\n",
              "      <td>Arya Stark</td>\n",
              "      <td>No One</td>\n",
              "      <td>House Stark</td>\n",
              "    </tr>\n",
              "    <tr>\n",
              "      <th>4</th>\n",
              "      <td>Sansa Stark</td>\n",
              "      <td>Lady of Winterfell</td>\n",
              "      <td>House Stark</td>\n",
              "    </tr>\n",
              "  </tbody>\n",
              "</table>\n",
              "</div>\n",
              "      <button class=\"colab-df-convert\" onclick=\"convertToInteractive('df-e9862a03-f604-42b2-8ebd-8a3af2ddc65c')\"\n",
              "              title=\"Convert this dataframe to an interactive table.\"\n",
              "              style=\"display:none;\">\n",
              "        \n",
              "  <svg xmlns=\"http://www.w3.org/2000/svg\" height=\"24px\"viewBox=\"0 0 24 24\"\n",
              "       width=\"24px\">\n",
              "    <path d=\"M0 0h24v24H0V0z\" fill=\"none\"/>\n",
              "    <path d=\"M18.56 5.44l.94 2.06.94-2.06 2.06-.94-2.06-.94-.94-2.06-.94 2.06-2.06.94zm-11 1L8.5 8.5l.94-2.06 2.06-.94-2.06-.94L8.5 2.5l-.94 2.06-2.06.94zm10 10l.94 2.06.94-2.06 2.06-.94-2.06-.94-.94-2.06-.94 2.06-2.06.94z\"/><path d=\"M17.41 7.96l-1.37-1.37c-.4-.4-.92-.59-1.43-.59-.52 0-1.04.2-1.43.59L10.3 9.45l-7.72 7.72c-.78.78-.78 2.05 0 2.83L4 21.41c.39.39.9.59 1.41.59.51 0 1.02-.2 1.41-.59l7.78-7.78 2.81-2.81c.8-.78.8-2.07 0-2.86zM5.41 20L4 18.59l7.72-7.72 1.47 1.35L5.41 20z\"/>\n",
              "  </svg>\n",
              "      </button>\n",
              "      \n",
              "  <style>\n",
              "    .colab-df-container {\n",
              "      display:flex;\n",
              "      flex-wrap:wrap;\n",
              "      gap: 12px;\n",
              "    }\n",
              "\n",
              "    .colab-df-convert {\n",
              "      background-color: #E8F0FE;\n",
              "      border: none;\n",
              "      border-radius: 50%;\n",
              "      cursor: pointer;\n",
              "      display: none;\n",
              "      fill: #1967D2;\n",
              "      height: 32px;\n",
              "      padding: 0 0 0 0;\n",
              "      width: 32px;\n",
              "    }\n",
              "\n",
              "    .colab-df-convert:hover {\n",
              "      background-color: #E2EBFA;\n",
              "      box-shadow: 0px 1px 2px rgba(60, 64, 67, 0.3), 0px 1px 3px 1px rgba(60, 64, 67, 0.15);\n",
              "      fill: #174EA6;\n",
              "    }\n",
              "\n",
              "    [theme=dark] .colab-df-convert {\n",
              "      background-color: #3B4455;\n",
              "      fill: #D2E3FC;\n",
              "    }\n",
              "\n",
              "    [theme=dark] .colab-df-convert:hover {\n",
              "      background-color: #434B5C;\n",
              "      box-shadow: 0px 1px 3px 1px rgba(0, 0, 0, 0.15);\n",
              "      filter: drop-shadow(0px 1px 2px rgba(0, 0, 0, 0.3));\n",
              "      fill: #FFFFFF;\n",
              "    }\n",
              "  </style>\n",
              "\n",
              "      <script>\n",
              "        const buttonEl =\n",
              "          document.querySelector('#df-e9862a03-f604-42b2-8ebd-8a3af2ddc65c button.colab-df-convert');\n",
              "        buttonEl.style.display =\n",
              "          google.colab.kernel.accessAllowed ? 'block' : 'none';\n",
              "\n",
              "        async function convertToInteractive(key) {\n",
              "          const element = document.querySelector('#df-e9862a03-f604-42b2-8ebd-8a3af2ddc65c');\n",
              "          const dataTable =\n",
              "            await google.colab.kernel.invokeFunction('convertToInteractive',\n",
              "                                                     [key], {});\n",
              "          if (!dataTable) return;\n",
              "\n",
              "          const docLinkHtml = 'Like what you see? Visit the ' +\n",
              "            '<a target=\"_blank\" href=https://colab.research.google.com/notebooks/data_table.ipynb>data table notebook</a>'\n",
              "            + ' to learn more about interactive tables.';\n",
              "          element.innerHTML = '';\n",
              "          dataTable['output_type'] = 'display_data';\n",
              "          await google.colab.output.renderOutput(dataTable, element);\n",
              "          const docLink = document.createElement('div');\n",
              "          docLink.innerHTML = docLinkHtml;\n",
              "          element.appendChild(docLink);\n",
              "        }\n",
              "      </script>\n",
              "    </div>\n",
              "  </div>\n",
              "  "
            ]
          },
          "metadata": {},
          "execution_count": 8
        }
      ]
    },
    {
      "cell_type": "code",
      "source": [
        "# get all characters in House Stark\n",
        "\n",
        "df_stark = df.query(\"Family == 'House Stark'\")\n",
        "\n",
        "print(df_stark)"
      ],
      "metadata": {
        "id": "yaoT8BM6mCTJ",
        "colab": {
          "base_uri": "https://localhost:8080/"
        },
        "outputId": "404877bd-0cb0-4fbb-8d1e-e8f369a22d18"
      },
      "execution_count": null,
      "outputs": [
        {
          "output_type": "stream",
          "name": "stdout",
          "text": [
            "             Name               Title       Family\n",
            "2        Jon Snow   King of the North  House Stark\n",
            "3      Arya Stark              No One  House Stark\n",
            "4     Sansa Stark  Lady of Winterfell  House Stark\n",
            "5   Brandon Stark  Lord of Winterfell  House Stark\n",
            "6       Ned Stark  Lord of Winterfell  House Stark\n",
            "10  Catelyn Stark  Lady of Winterfell  House Stark\n",
            "11      Rob Stark  Lord of Winterfell  House Stark\n"
          ]
        }
      ]
    }
  ]
}
