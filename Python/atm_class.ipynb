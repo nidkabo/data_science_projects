{
  "nbformat": 4,
  "nbformat_minor": 0,
  "metadata": {
    "colab": {
      "provenance": [],
      "authorship_tag": "ABX9TyPh71X68G72kpgrZ+T1tInX",
      "include_colab_link": true
    },
    "kernelspec": {
      "name": "python3",
      "display_name": "Python 3"
    },
    "language_info": {
      "name": "python"
    }
  },
  "cells": [
    {
      "cell_type": "markdown",
      "metadata": {
        "id": "view-in-github",
        "colab_type": "text"
      },
      "source": [
        "<a href=\"https://colab.research.google.com/github/nidkabo/data_science_projects/blob/main/Python/atm_class.ipynb\" target=\"_parent\"><img src=\"https://colab.research.google.com/assets/colab-badge.svg\" alt=\"Open In Colab\"/></a>"
      ]
    },
    {
      "cell_type": "markdown",
      "source": [
        "##Python Programming Project\n",
        "### ATM Program (Method) in Python\n",
        "**Author**: Nidkamol Boonyanate\n",
        "\n",
        "**Concept**: Object Oriented Programming (OOP)\n",
        "\n",
        "5 things you can do at this ATM:\n",
        "- Create a new account\n",
        "- Balance Checking\n",
        "- Deposit\n",
        "- Cash Withdrawal\n",
        "- Transfers between Accounts"
      ],
      "metadata": {
        "id": "XWs4nNPL6xT0"
      }
    },
    {
      "cell_type": "code",
      "source": [
        "# defining the class\n",
        "class ATM:\n",
        "    def __init__(self, bank):\n",
        "        self.bank = bank\n",
        "        self.accounts = {}\n",
        "    \n",
        "    def __str__(self):\n",
        "        return f\"This is the {self.bank} ATM.\"\n",
        "\n",
        "# ATM methods\n",
        "    # create a new account\n",
        "    def create_account(self, account_id, name, balance = 0.0):\n",
        "        if account_id in self.accounts:\n",
        "            print(\"This Account ID is already taken. Please try another.\")\n",
        "        else:\n",
        "            print(\"Your account has been created successfully!\")\n",
        "            self.accounts[account_id] = {\"name\": name, \"balance\": float(balance)}\n",
        "\n",
        "    # balance checking\n",
        "    def check_balance(self, account_id):\n",
        "        if account_id in self.accounts:\n",
        "            print(\"Your current cash balance is: \", \\\n",
        "                  self.accounts[account_id][\"balance\"])\n",
        "        else:\n",
        "            print(\"Account not found.\")\n",
        "\n",
        "    # deposit\n",
        "    def deposit(self, account_id):\n",
        "        if account_id in self.accounts:\n",
        "            print(\"Cash Balance: \", self.accounts[account_id][\"balance\"])\n",
        "            deposit = float(input(\"Deposit Amount: \"))\n",
        "            self.accounts[account_id][\"balance\"] += deposit\n",
        "            print(\"Deposit successful.\")\n",
        "            print(\"--------------------------------------\")\n",
        "            print(\"Current Cash Balance: \", \\\n",
        "                  self.accounts[account_id][\"balance\"])\n",
        "        else:\n",
        "            print(\"Account not found.\")\n",
        "\n",
        "    # cash withdrawal\n",
        "    def withdraw(self, account_id):\n",
        "        if account_id in self.accounts:\n",
        "            print(\"Cash Balance: \", self.accounts[account_id][\"balance\"])\n",
        "            withdraw = float(input(\"Withdraw Amount: \"))\n",
        "            if self.accounts[account_id][\"balance\"] - withdraw >= 0:\n",
        "                self.accounts[account_id][\"balance\"] -= withdraw\n",
        "                print(\"Withdrawal successful.\")\n",
        "                print(\"--------------------------------------\")\n",
        "                print(\"Current Cash Balance: \", \\\n",
        "                      self.accounts[account_id][\"balance\"])\n",
        "            else:\n",
        "                print(\"Insufficient funds.\")\n",
        "        else:\n",
        "            print(\"Account not found.\")\n",
        "\n",
        "    # transfer between accounts\n",
        "    def transfer(self, account_id1, account_id2):\n",
        "        if account_id1 in self.accounts and account_id2 in self.accounts:\n",
        "            transfer = float(input(\"Transfer Amount: \"))\n",
        "            if self.accounts[account_id1][\"balance\"] - transfer >= 0:\n",
        "                self.accounts[account_id1][\"balance\"] -= transfer\n",
        "                self.accounts[account_id2][\"balance\"] += transfer\n",
        "                print(\"Transfer successful.\")\n",
        "                print(f\"\"\"  From Account No.: {account_id1}\n",
        "     Account Name : {self.accounts[account_id1][\"name\"]}\n",
        "    To Account No.: {account_id2}\n",
        "     Account Name : {self.accounts[account_id2][\"name\"]}\n",
        "           Amount : {transfer}\"\"\")\n",
        "                print(\"--------------------------------------\")\n",
        "                print(\"Current Cash Balance: \", \\\n",
        "                      self.accounts[account_id1][\"balance\"])\n",
        "            else:\n",
        "                print(\"Insufficient funds.\")\n",
        "        else:\n",
        "            print(\"One or both accounts not found.\")"
      ],
      "metadata": {
        "id": "IW-iN0Xa66eV"
      },
      "execution_count": null,
      "outputs": []
    },
    {
      "cell_type": "markdown",
      "source": [
        "Try create the ACB's ATM (random bank name)\n",
        "then try every method of ATM."
      ],
      "metadata": {
        "id": "TyqvnKAObINr"
      }
    },
    {
      "cell_type": "code",
      "source": [
        "ACB = ATM(\"Asian Commercial Bank\")"
      ],
      "metadata": {
        "id": "FNFPHrFZ8NLX"
      },
      "execution_count": null,
      "outputs": []
    },
    {
      "cell_type": "code",
      "source": [
        "print(ACB)"
      ],
      "metadata": {
        "colab": {
          "base_uri": "https://localhost:8080/"
        },
        "id": "KyRmKbMJ9OFI",
        "outputId": "c727c604-9757-4dee-b685-61c30e7a05ed"
      },
      "execution_count": null,
      "outputs": [
        {
          "output_type": "stream",
          "name": "stdout",
          "text": [
            "This is the Asian Commercial Bank ATM.\n"
          ]
        }
      ]
    },
    {
      "cell_type": "code",
      "source": [
        "# create a new account\n",
        "ACB.create_account(\"1112\", \"David\", \"50000\")\n",
        "ACB.create_account(\"1150\", \"John\", \"35000\")"
      ],
      "metadata": {
        "colab": {
          "base_uri": "https://localhost:8080/"
        },
        "id": "8NV0IlMn9TOm",
        "outputId": "b48afc7f-3a5b-49f9-9b57-c84d84e3d631"
      },
      "execution_count": null,
      "outputs": [
        {
          "output_type": "stream",
          "name": "stdout",
          "text": [
            "Your account has been created successfully!\n",
            "Your account has been created successfully!\n"
          ]
        }
      ]
    },
    {
      "cell_type": "code",
      "source": [
        "# try create an account with an already taken id\n",
        "ACB.create_account(\"1150\", \"Thomas\", \"18000\")"
      ],
      "metadata": {
        "colab": {
          "base_uri": "https://localhost:8080/"
        },
        "id": "LVJo-iFM-R9p",
        "outputId": "d793f135-3db1-4498-b9ad-8a48ddb6c655"
      },
      "execution_count": null,
      "outputs": [
        {
          "output_type": "stream",
          "name": "stdout",
          "text": [
            "This Account ID is already taken. Please try another.\n"
          ]
        }
      ]
    },
    {
      "cell_type": "code",
      "source": [
        "# check all accounts in ATM\n",
        "ACB.accounts"
      ],
      "metadata": {
        "colab": {
          "base_uri": "https://localhost:8080/"
        },
        "id": "63GKAKAs-eMQ",
        "outputId": "ac393105-207a-436a-89be-272bc370d58d"
      },
      "execution_count": null,
      "outputs": [
        {
          "output_type": "execute_result",
          "data": {
            "text/plain": [
              "{'1112': {'name': 'David', 'balance': 50000.0},\n",
              " '1150': {'name': 'John', 'balance': 35000.0}}"
            ]
          },
          "metadata": {},
          "execution_count": 6
        }
      ]
    },
    {
      "cell_type": "code",
      "source": [
        "# balance checking\n",
        "ACB.check_balance(\"1112\")"
      ],
      "metadata": {
        "colab": {
          "base_uri": "https://localhost:8080/"
        },
        "id": "xpPxOu4MC2vg",
        "outputId": "d709f040-8fd7-44db-98c3-f240edae7f42"
      },
      "execution_count": null,
      "outputs": [
        {
          "output_type": "stream",
          "name": "stdout",
          "text": [
            "Your current cash balance is:  50000.0\n"
          ]
        }
      ]
    },
    {
      "cell_type": "code",
      "source": [
        "# deposit\n",
        "ACB.deposit(\"1112\")"
      ],
      "metadata": {
        "colab": {
          "base_uri": "https://localhost:8080/"
        },
        "id": "VKonZgz8NMob",
        "outputId": "33cc7f78-6526-45eb-e0bd-7b8effa5b92d"
      },
      "execution_count": null,
      "outputs": [
        {
          "output_type": "stream",
          "name": "stdout",
          "text": [
            "Cash Balance:  50000.0\n",
            "Deposit Amount: 5000.0\n",
            "Deposit successful.\n",
            "--------------------------------------\n",
            "Current Cash Balance:  55000.0\n"
          ]
        }
      ]
    },
    {
      "cell_type": "code",
      "source": [
        "# cash withdrawal\n",
        "ACB.withdraw(\"1112\")"
      ],
      "metadata": {
        "colab": {
          "base_uri": "https://localhost:8080/"
        },
        "id": "11bVnSxjNaN_",
        "outputId": "8ea714f5-0704-438a-ced9-2e3eb24bc674"
      },
      "execution_count": null,
      "outputs": [
        {
          "output_type": "stream",
          "name": "stdout",
          "text": [
            "Cash Balance:  55000.0\n",
            "Withdraw Amount: 20000.0\n",
            "Withdrawal successful.\n",
            "--------------------------------------\n",
            "Current Cash Balance:  35000.0\n"
          ]
        }
      ]
    },
    {
      "cell_type": "code",
      "source": [
        "# transfer between accounts\n",
        "ACB.transfer(\"1112\", \"1150\")"
      ],
      "metadata": {
        "colab": {
          "base_uri": "https://localhost:8080/"
        },
        "id": "AGCB3-4iR26F",
        "outputId": "859b2e08-4504-445e-d6e0-162957b181db"
      },
      "execution_count": null,
      "outputs": [
        {
          "output_type": "stream",
          "name": "stdout",
          "text": [
            "Transfer Amount: 5000.0\n",
            "Transfer successful.\n",
            "  From Account No.: 1112\n",
            "     Account Name : David\n",
            "    To Account No.: 1150\n",
            "     Account Name : John\n",
            "           Amount : 5000.0\n",
            "--------------------------------------\n",
            "Current Cash Balance:  30000.0\n"
          ]
        }
      ]
    },
    {
      "cell_type": "code",
      "source": [
        "# check last amount of all accounts in ATM\n",
        "ACB.accounts"
      ],
      "metadata": {
        "colab": {
          "base_uri": "https://localhost:8080/"
        },
        "id": "sT9t-fNeauTr",
        "outputId": "3363707e-7c3c-4ecb-c79b-c483c922de58"
      },
      "execution_count": null,
      "outputs": [
        {
          "output_type": "execute_result",
          "data": {
            "text/plain": [
              "{'1112': {'name': 'David', 'balance': 30000.0},\n",
              " '1150': {'name': 'John', 'balance': 40000.0}}"
            ]
          },
          "metadata": {},
          "execution_count": 11
        }
      ]
    }
  ]
}