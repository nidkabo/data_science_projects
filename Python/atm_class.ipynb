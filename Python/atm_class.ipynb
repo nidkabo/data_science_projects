# defining the class
class ATM:
    def __init__(self, bank):
        self.bank = bank
        self.accounts = {}
    
    def __str__(self):
        return f"This is the {self.bank} ATM."

# ATM methods
    # create a new account
    def create_account(self, account_id, name, balance = 0.0):
        if account_id in self.accounts:
            print("This Account ID is already taken. Please try another.")
        else:
            print("Your account has been created successfully!")
            self.accounts[account_id] = {"name": name, "balance": float(balance)}

    # balance checking
    def check_balance(self, account_id):
        if account_id in self.accounts:
            print("Your current cash balance is: ", \
                  self.accounts[account_id]["balance"])
        else:
            print("Account not found.")

    # deposit
    def deposit(self, account_id):
        if account_id in self.accounts:
            print("Cash Balance: ", self.accounts[account_id]["balance"])
            deposit = float(input("Deposit Amount: "))
            self.accounts[account_id]["balance"] += deposit
            print("Deposit successful.")
            print("--------------------------------------")
            print("Current Cash Balance: ", \
                  self.accounts[account_id]["balance"])
        else:
            print("Account not found.")

    # cash withdrawal
    def withdraw(self, account_id):
        if account_id in self.accounts:
            print("Cash Balance: ", self.accounts[account_id]["balance"])
            withdraw = float(input("Withdraw Amount: "))
            if self.accounts[account_id]["balance"] - withdraw >= 0:
                self.accounts[account_id]["balance"] -= withdraw
                print("Withdrawal successful.")
                print("--------------------------------------")
                print("Current Cash Balance: ", \
                      self.accounts[account_id]["balance"])
            else:
                print("Insufficient funds.")
        else:
            print("Account not found.")

    # transfer between accounts
    def transfer(self, account_id1, account_id2):
        if account_id1 in self.accounts and account_id2 in self.accounts:
            transfer = float(input("Transfer Amount: "))
            if self.accounts[account_id1]["balance"] - transfer >= 0:
                self.accounts[account_id1]["balance"] -= transfer
                self.accounts[account_id2]["balance"] += transfer
                print("Transfer successful.")
                print(f"""  From Account No.: {account_id1}
     Account Name : {self.accounts[account_id1]["name"]}
    To Account No.: {account_id2}
     Account Name : {self.accounts[account_id2]["name"]}
           Amount : {transfer}""")
                print("--------------------------------------")
                print("Current Cash Balance: ", \
                      self.accounts[account_id1]["balance"])
            else:
                print("Insufficient funds.")
        else:
            print("One or both accounts not found.")

ACB = ATM("Asian Commercial Bank")

print(ACB)

# create a new account
ACB.create_account("1112", "David", "50000")
ACB.create_account("1150", "John", "35000")

# try create an account with an already taken id
ACB.create_account("1150", "Thomas", "18000")

# check all accounts in ATM
ACB.accounts

# balance checking
ACB.check_balance("1112")

# deposit
ACB.deposit("1112")

# cash withdrawal
ACB.withdraw("1112")

# transfer between accounts
ACB.transfer("1112", "1150")

# check last amount of all accounts in ATM
ACB.accounts
