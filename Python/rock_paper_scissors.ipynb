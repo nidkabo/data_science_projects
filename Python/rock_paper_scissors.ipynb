#Step 1: importing the necessary module.

import random

#Step 2: printing greeting messages and asking the player about how it wants to play the game.

def Info():
    print("\tHELLO! WELCOME TO ROCK PAPER SCISSORS GAME!")
    print("\nINSTRUCTIONS:\nThe player has three choices namely rock, paper and scissors.")
    print("\nGAME RULES:")
    print("\tROCK beats SCISSORS")
    print("\tSCISSORS beats PAPER")
    print("\tPAPER beats ROCK")
    print("---------------------------------------------------------------------------")
    print("Choose between the two options: ")
    print("\t 1. Play Game")
    print("\t 2. Exit Game")

Info()

#Step 3: creating the separate functions for various purposes.

choices = ["rock","paper","scissors"]
#drawing the hand diagrams function (more interactive for the player)
def draw_diagrams(ch):
    if(ch == "rock"):
        print("""
                _______
            ---'   ____)
                  (_____)
                  (_____)
                  (____)
            ---.__(___)
            """)
    elif(ch == "paper"):
        print("""
                 _______
            ---'    ____)_____
                       _______)
                      ________)
                     ________)
            ---.___________)
            """)
    elif(ch == "scissors"):
        print("""
                _______
            ---'   ____)_____
                      _______)
                   ___________)
                  (____)
            ---.__(___)
            """)
    else:
        print("WRONG INPUT! Choose Again Please!\n")

#checking who wins the round function
def check_win(c1, c2):
    if(c1 == 'rock' and c2 == 'paper'):
        return 2
    elif(c1 == 'paper' and c2 == 'rock'):
        return 1
    elif(c1 == 'paper' and c2 == 'scissors'):
        return 2
    elif(c1 == 'scissors' and c2 == 'paper'):
        return 1
    elif(c1 == 'rock' and c2 == 'scissors'):
        return 1
    elif(c1 == 'scissors' and c2 == 'rock'):
        return 2
    elif(c1 == c2):
        return 0

#playing with the computer function (the most important function)
def begin_game(n):
    score_player = 0
    score_computer = 0
    draw = 0
    for i in range(n):
        print("---------------------------------------------------------------------------")
        print("ROUND ", i+1)
        check = True
        while check:
            p_ch = input("Choose your option: ")
            if(p_ch.lower() in choices):
                check = False
            else:
                print("Wrong Input! Enter Again!")
        c_ch = choices[random.randint(0,2)]
         
        print("\nYOUR CHOICE: ")
        draw_diagrams(p_ch.lower())
        print("\nCOMPUTER's CHOICE: ")
        draw_diagrams(c_ch.lower())
         
        winner = check_win(p_ch, c_ch)
        if(winner == 1):
            print("YEAH! YOU WIN THE ROUND!\n")
            score_player += 1
        elif(winner == 2):
            print("Oh no! Computer wins the round!\n")
            score_computer += 1
        else:
            print("DRAW ROUND!\n")
            draw += 1
    print("---------------------------------------------------------------------------")
    print("FINAL SCORES ARE AS FOLLOWS: ")
    print("YOUR SCORE: ", score_player)
    print("COMPUTER's SCORE: ", score_computer)
    print("TOTAL DRAW: ", draw)
    if(score_player > score_computer):
        print("---------------------------------------------------------------------------")
        print("YOU WIN! Congratulations!")
        print("---------------------------------------------------------------------------")
    elif(score_player < score_computer):
        print("---------------------------------------------------------------------------")
        print("Computer wins! Better luck next time!")
        print("---------------------------------------------------------------------------")
    else:
        print("---------------------------------------------------------------------------")
        print("It's a draw game!")
        print("---------------------------------------------------------------------------")

wrong = True
while wrong:
    try:
        x = int(input("Enter your choice of Gameplay: "))
        if(x == 1):
            wrong = False
            n = int(input("Enter number of rounds you want to play: "))
            begin_game(n)
        elif(x == 2):
            wrong = False
            print("\nThank you for playing! \nHave a nice day!")
        else:
            print("Choose Again!")
    except (ValueError):
        print("Invalid input! Choose again!")
        wrong = True
